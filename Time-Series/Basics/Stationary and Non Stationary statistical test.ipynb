{
 "cells": [
  {
   "cell_type": "markdown",
   "id": "8ff97d0b",
   "metadata": {},
   "source": [
    "##### ARMA - Auto regressive moving average model expects your data to be the stationary\n",
    "- When data is stationary there graph flactuate around the mean and there will not be any trend. There may be seasonality/perodity (D-Mart sales is raising on weekends). There may also be cyclicity where depending on external factors your graph will flactuate (i.e Increasing the steel perices)"
   ]
  },
  {
   "cell_type": "markdown",
   "id": "d22dbc16",
   "metadata": {},
   "source": [
    "#### ARIMA - is used when data is non stationary, I i.e integrator used to represent non stationary data and d value is set in ARIMA "
   ]
  },
  {
   "cell_type": "code",
   "execution_count": 1,
   "id": "55e7b18f",
   "metadata": {},
   "outputs": [],
   "source": [
    "import pandas as pd\n",
    "import numpy as np\n",
    "import matplotlib.pyplot as plt\n",
    "import matplotlib as mpl\n",
    "from datetime import datetime\n",
    "\n",
    "%matplotlib inline"
   ]
  },
  {
   "cell_type": "code",
   "execution_count": 2,
   "id": "2fc4deda",
   "metadata": {},
   "outputs": [],
   "source": [
    "df = pd.read_csv('amzon_revenue.csv', parse_dates = ['Quarter'], date_parser = lambda x:datetime.strptime(x, '%m/%d/%Y'))"
   ]
  },
  {
   "cell_type": "code",
   "execution_count": 3,
   "id": "c8eddaa8",
   "metadata": {},
   "outputs": [
    {
     "data": {
      "text/html": [
       "<div>\n",
       "<style scoped>\n",
       "    .dataframe tbody tr th:only-of-type {\n",
       "        vertical-align: middle;\n",
       "    }\n",
       "\n",
       "    .dataframe tbody tr th {\n",
       "        vertical-align: top;\n",
       "    }\n",
       "\n",
       "    .dataframe thead th {\n",
       "        text-align: right;\n",
       "    }\n",
       "</style>\n",
       "<table border=\"1\" class=\"dataframe\">\n",
       "  <thead>\n",
       "    <tr style=\"text-align: right;\">\n",
       "      <th></th>\n",
       "      <th>Quarter</th>\n",
       "      <th>Revenue</th>\n",
       "      <th>Net Income</th>\n",
       "    </tr>\n",
       "  </thead>\n",
       "  <tbody>\n",
       "    <tr>\n",
       "      <th>0</th>\n",
       "      <td>2020-03-31</td>\n",
       "      <td>75452</td>\n",
       "      <td>2535</td>\n",
       "    </tr>\n",
       "    <tr>\n",
       "      <th>1</th>\n",
       "      <td>2019-12-31</td>\n",
       "      <td>87437</td>\n",
       "      <td>3268</td>\n",
       "    </tr>\n",
       "    <tr>\n",
       "      <th>2</th>\n",
       "      <td>2019-09-30</td>\n",
       "      <td>69981</td>\n",
       "      <td>2134</td>\n",
       "    </tr>\n",
       "    <tr>\n",
       "      <th>3</th>\n",
       "      <td>2019-06-30</td>\n",
       "      <td>63404</td>\n",
       "      <td>2625</td>\n",
       "    </tr>\n",
       "    <tr>\n",
       "      <th>4</th>\n",
       "      <td>2019-03-31</td>\n",
       "      <td>59700</td>\n",
       "      <td>3561</td>\n",
       "    </tr>\n",
       "  </tbody>\n",
       "</table>\n",
       "</div>"
      ],
      "text/plain": [
       "     Quarter  Revenue  Net Income\n",
       "0 2020-03-31    75452        2535\n",
       "1 2019-12-31    87437        3268\n",
       "2 2019-09-30    69981        2134\n",
       "3 2019-06-30    63404        2625\n",
       "4 2019-03-31    59700        3561"
      ]
     },
     "execution_count": 3,
     "metadata": {},
     "output_type": "execute_result"
    }
   ],
   "source": [
    "df.head()"
   ]
  },
  {
   "cell_type": "code",
   "execution_count": 5,
   "id": "d1f196ac",
   "metadata": {},
   "outputs": [
    {
     "data": {
      "image/png": "[encoded data removed]",
      "text/plain": [
       "<Figure size 432x288 with 1 Axes>"
      ]
     },
     "metadata": {
      "needs_background": "light"
     },
     "output_type": "display_data"
    }
   ],
   "source": [
    "df.plot().invert_xaxis()"
   ]
  },
  {
   "cell_type": "markdown",
   "id": "43a1e0f4",
   "metadata": {},
   "source": [
    "## KPSS TEST\n",
    "### Null hypothesis - Series is stationary\n",
    "### Alternate hypothesis - Series is not stationary"
   ]
  },
  {
   "cell_type": "code",
   "execution_count": 6,
   "id": "04b6d9fa",
   "metadata": {},
   "outputs": [],
   "source": [
    "from statsmodels.tsa.stattools import kpss"
   ]
  },
  {
   "cell_type": "code",
   "execution_count": 7,
   "id": "27a22944",
   "metadata": {},
   "outputs": [
    {
     "name": "stderr",
     "output_type": "stream",
     "text": [
      "C:\\Users\\RuturajMane\\AppData\\Local\\Programs\\Python\\Python310\\lib\\site-packages\\statsmodels\\tsa\\stattools.py:2018: InterpolationWarning: The test statistic is outside of the range of p-values available in the\n",
      "look-up table. The actual p-value is smaller than the p-value returned.\n",
      "\n",
      "  warnings.warn(\n"
     ]
    }
   ],
   "source": [
    "stats, p, lags, critical_values = kpss(df['Revenue'], 'ct')"
   ]
  },
  {
   "cell_type": "code",
   "execution_count": 8,
   "id": "cf94fb7b",
   "metadata": {},
   "outputs": [
    {
     "name": "stdout",
     "output_type": "stream",
     "text": [
      "We reject the null hypothesis\n",
      "Data is not stationary\n"
     ]
    }
   ],
   "source": [
    "if p < 0.05:\n",
    "    print('We reject the null hypothesis')\n",
    "    print('Data is not stationary')\n",
    "else:\n",
    "    print('Data is stationary')"
   ]
  },
  {
   "cell_type": "code",
   "execution_count": 11,
   "id": "4fe936a6",
   "metadata": {},
   "outputs": [
    {
     "name": "stdout",
     "output_type": "stream",
     "text": [
      "0.30665545975169417 \n",
      " 4 \n",
      " {'10%': 0.119, '5%': 0.146, '2.5%': 0.176, '1%': 0.216}\n"
     ]
    }
   ],
   "source": [
    "print(stats, '\\n',lags, '\\n', critical_values)"
   ]
  },
  {
   "cell_type": "markdown",
   "id": "40c713b2",
   "metadata": {},
   "source": [
    "## ADF TEST\n",
    "### NULL HYPOTHESIS - Series posses a unit root hence not stationary\n",
    "### ALTERNATE HYPOTHESIS - Series is stationary"
   ]
  },
  {
   "cell_type": "code",
   "execution_count": 12,
   "id": "e78dfd7b",
   "metadata": {},
   "outputs": [],
   "source": [
    "from statsmodels.tsa.stattools import adfuller\n",
    "results = adfuller(df['Revenue'])\n",
    "p = results[1]"
   ]
  },
  {
   "cell_type": "code",
   "execution_count": 15,
   "id": "1d2006c2",
   "metadata": {},
   "outputs": [
    {
     "name": "stdout",
     "output_type": "stream",
     "text": [
      "Data is not stationary\n",
      "0.1294794312183885\n"
     ]
    }
   ],
   "source": [
    "if p < 0.05:\n",
    "    print('We reject the null hypothesis hence data is stationary')\n",
    "else:\n",
    "    print('Data is not stationary')\n",
    "print(p)"
   ]
  },
  {
   "cell_type": "code",
   "execution_count": null,
   "id": "f56847ca",
   "metadata": {},
   "outputs": [],
   "source": []
  }
 ],
 "metadata": {
  "kernelspec": {
   "display_name": "Python 3 (ipykernel)",
   "language": "python",
   "name": "python3"
  },
  "language_info": {
   "codemirror_mode": {
    "name": "ipython",
    "version": 3
   },
   "file_extension": ".py",
   "mimetype": "text/x-python",
   "name": "python",
   "nbconvert_exporter": "python",
   "pygments_lexer": "ipython3",
   "version": "3.10.4"
  }
 },
 "nbformat": 4,
 "nbformat_minor": 5
}
