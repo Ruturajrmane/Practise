{
 "cells": [
  {
   "cell_type": "code",
   "execution_count": 42,
   "id": "184b77b6",
   "metadata": {},
   "outputs": [
    {
     "name": "stdout",
     "output_type": "stream",
     "text": [
      "         wt1  wt2  wt3  wt4  wt5  ko1  ko2  ko3  ko4  ko5\n",
      "gene1    640  572  569  596  560  580  577  600  589  561\n",
      "gene2    544  571  567  548  565  359  372  391  401  370\n",
      "gene3    157  136  150  144  136  118  122  105  116  111\n",
      "gene4    804  798  787  789  818  839  841  883  843  872\n",
      "gene5    681  729  725  664  702  563  558  518  493  510\n",
      "...      ...  ...  ...  ...  ...  ...  ...  ...  ...  ...\n",
      "gene96   322  331  356  310  313   88   81   92   87   99\n",
      "gene97   524  553  517  478  487  815  837  788  792  849\n",
      "gene98   804  800  739  805  805   87   81   87   72   80\n",
      "gene99   252  289  265  262  245  302  324  296  306  292\n",
      "gene100  599  566  580  526  557  441  432  417  470  447\n",
      "\n",
      "[100 rows x 10 columns]\n"
     ]
    }
   ],
   "source": [
    "import pandas as pd\n",
    "import numpy as np\n",
    "import random as rd\n",
    "from sklearn.decomposition import PCA\n",
    "from sklearn import preprocessing\n",
    "import matplotlib.pyplot as plt\n",
    "\n",
    "genes = ['gene' + str(i) for i in range(1,101)]\n",
    "\n",
    "wt = ['wt' + str(i) for i in range(1,6)]\n",
    "ko = ['ko' + str(i) for i in range(1,6)]\n",
    "\n",
    "data = pd.DataFrame(columns = [*wt,*ko], index = genes)\n",
    "\n",
    "for gene in data.index:\n",
    "    data.loc[gene, 'wt1': 'wt5'] = np.random.poisson(lam = rd.randrange(10,1000), size = 5)\n",
    "    data.loc[gene, 'ko1':'ko5'] = np.random.poisson(lam = rd.randrange(10,1000), size = 5)\n",
    "    \n",
    "print(data)\n"
   ]
  },
  {
   "cell_type": "code",
   "execution_count": 44,
   "id": "52c7279e",
   "metadata": {},
   "outputs": [],
   "source": [
    "scaled_data= preprocessing.scale(data.T) # Samples always need to be in the columns and feartures need to be in rows\n",
    "pca = PCA()\n",
    "pca.fit(scaled_data)\n",
    "pca_data = pca.transform(scaled_data) # We generate coordinates for the PCA graph based on the loading score and scaled data"
   ]
  },
  {
   "cell_type": "code",
   "execution_count": 50,
   "id": "55af1428",
   "metadata": {},
   "outputs": [
    {
     "data": {
      "image/png": "[encoded data removed]",
      "text/plain": [
       "<Figure size 432x288 with 1 Axes>"
      ]
     },
     "metadata": {
      "needs_background": "light"
     },
     "output_type": "display_data"
    }
   ],
   "source": [
    "per_var = np.round(pca.explained_variance_ratio_*100, decimals = 1)\n",
    "labels = ['PC' + str(i) for i in range(1, len(per_var)+1)]\n",
    "plt.bar(x=range(1,len(per_var)+1), height=per_var, tick_label=labels)\n",
    "plt.ylabel('Percentage of Explained Variance')\n",
    "plt.xlabel('Principal Component')\n",
    "plt.title('Scree Plot')\n",
    "plt.show()\n"
   ]
  },
  {
   "cell_type": "code",
   "execution_count": 51,
   "id": "5c77e492",
   "metadata": {},
   "outputs": [
    {
     "data": {
      "text/plain": [
       "Text(0, 0.5, 'PC2 - 2.8%')"
      ]
     },
     "execution_count": 51,
     "metadata": {},
     "output_type": "execute_result"
    },
    {
     "data": {
      "image/png": "[encoded data removed]",
      "text/plain": [
       "<Figure size 432x288 with 1 Axes>"
      ]
     },
     "metadata": {
      "needs_background": "light"
     },
     "output_type": "display_data"
    }
   ],
   "source": [
    "pca_df = pd.DataFrame(pca_data, index=[*wt, *ko], columns=labels)\n",
    "plt.scatter(pca_df.PC1, pca_df.PC2)\n",
    "plt.title('My PCA Graph')\n",
    "plt.xlabel('PC1 - {0}%'.format(per_var[0]))\n",
    "plt.ylabel('PC2 - {0}%'.format(per_var[1]))"
   ]
  },
  {
   "cell_type": "code",
   "execution_count": 41,
   "id": "55691244",
   "metadata": {},
   "outputs": [
    {
     "name": "stdout",
     "output_type": "stream",
     "text": [
      "gene26    -0.106105\n",
      "gene77     0.106085\n",
      "gene88     0.106056\n",
      "gene8     -0.106052\n",
      "gene94    -0.106041\n",
      "gene48     0.106036\n",
      "gene13    -0.106035\n",
      "gene100   -0.106016\n",
      "gene50     0.105991\n",
      "gene46     0.105986\n",
      "dtype: float64\n"
     ]
    }
   ],
   "source": [
    "#########################\n",
    "#\n",
    "# Determine which genes had the biggest influence on PC1\n",
    "#\n",
    "#########################\n",
    " \n",
    "## get the name of the top 10 measurements (genes) that contribute\n",
    "## most to pc1.\n",
    "## first, get the loading scores\n",
    "loading_scores = pd.Series(pca.components_[0], index=genes)\n",
    "## now sort the loading scores based on their magnitude\n",
    "sorted_loading_scores = loading_scores.abs().sort_values(ascending=False)\n",
    " \n",
    "# get the names of the top 10 genes\n",
    "top_10_genes = sorted_loading_scores[0:10].index.values\n",
    " \n",
    "## print the gene names and their scores (and +/- sign)\n",
    "print(loading_scores[top_10_genes])"
   ]
  },
  {
   "cell_type": "code",
   "execution_count": null,
   "id": "39127105",
   "metadata": {},
   "outputs": [],
   "source": []
  }
 ],
 "metadata": {
  "kernelspec": {
   "display_name": "Python 3 (ipykernel)",
   "language": "python",
   "name": "python3"
  },
  "language_info": {
   "codemirror_mode": {
    "name": "ipython",
    "version": 3
   },
   "file_extension": ".py",
   "mimetype": "text/x-python",
   "name": "python",
   "nbconvert_exporter": "python",
   "pygments_lexer": "ipython3",
   "version": "3.10.4"
  }
 },
 "nbformat": 4,
 "nbformat_minor": 5
}
