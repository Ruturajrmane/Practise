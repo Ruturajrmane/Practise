{
 "cells": [
  {
   "cell_type": "code",
   "execution_count": 1,
   "id": "38c1f54e",
   "metadata": {},
   "outputs": [],
   "source": [
    "# Input (temp, rainfall, humidity)\n",
    "import numpy as np\n",
    "inputs = np.array([[73, 67, 43], \n",
    "                   [91, 88, 64], \n",
    "                   [87, 134, 58], \n",
    "                   [102, 43, 37], \n",
    "                   [69, 96, 70]], dtype='float32')"
   ]
  },
  {
   "cell_type": "code",
   "execution_count": 2,
   "id": "dc11c6f6",
   "metadata": {},
   "outputs": [],
   "source": [
    "# Targets (apples, oranges)\n",
    "targets = np.array([[56, 70], \n",
    "                    [81, 101], \n",
    "                    [119, 133], \n",
    "                    [22, 37], \n",
    "                    [103, 119]], dtype='float32')"
   ]
  },
  {
   "cell_type": "code",
   "execution_count": 14,
   "id": "f022f6dd",
   "metadata": {},
   "outputs": [
    {
     "name": "stdout",
     "output_type": "stream",
     "text": [
      "tensor([[ 73.,  67.,  43.],\n",
      "        [ 91.,  88.,  64.],\n",
      "        [ 87., 134.,  58.],\n",
      "        [102.,  43.,  37.],\n",
      "        [ 69.,  96.,  70.]])\n",
      "tensor([[ 56.,  70.],\n",
      "        [ 81., 101.],\n",
      "        [119., 133.],\n",
      "        [ 22.,  37.],\n",
      "        [103., 119.]])\n"
     ]
    },
    {
     "name": "stderr",
     "output_type": "stream",
     "text": [
      "C:\\Users\\RuturajMane\\AppData\\Local\\Temp\\ipykernel_10496\\856546539.py:2: UserWarning: To copy construct from a tensor, it is recommended to use sourceTensor.clone().detach() or sourceTensor.clone().detach().requires_grad_(True), rather than torch.tensor(sourceTensor).\n",
      "  inputs= torch.tensor(inputs)\n",
      "C:\\Users\\RuturajMane\\AppData\\Local\\Temp\\ipykernel_10496\\856546539.py:3: UserWarning: To copy construct from a tensor, it is recommended to use sourceTensor.clone().detach() or sourceTensor.clone().detach().requires_grad_(True), rather than torch.tensor(sourceTensor).\n",
      "  targets = torch.tensor(targets)\n"
     ]
    }
   ],
   "source": [
    "import torch\n",
    "inputs= torch.tensor(inputs)\n",
    "targets = torch.tensor(targets)\n",
    "print(inputs)\n",
    "print(targets)"
   ]
  },
  {
   "cell_type": "code",
   "execution_count": 26,
   "id": "7d760998",
   "metadata": {},
   "outputs": [],
   "source": [
    "w = torch.randn(2,3, requires_grad = True)\n",
    "b = torch.randn(2,requires_grad = True)"
   ]
  },
  {
   "cell_type": "code",
   "execution_count": 27,
   "id": "bb504f9a",
   "metadata": {},
   "outputs": [],
   "source": [
    "def model(x):\n",
    "    return (x @ (w.t()))+b"
   ]
  },
  {
   "cell_type": "code",
   "execution_count": 45,
   "id": "716beab1",
   "metadata": {},
   "outputs": [
    {
     "name": "stdout",
     "output_type": "stream",
     "text": [
      "tensor([[  9.1601,  50.3071],\n",
      "        [ 15.6685,  65.6587],\n",
      "        [  3.9821, 119.0103],\n",
      "        [ 10.5930,  18.9578],\n",
      "        [ 17.2361,  77.7575]], grad_fn=<AddBackward0>)\n",
      "tensor([[ 56.,  70.],\n",
      "        [ 81., 101.],\n",
      "        [119., 133.],\n",
      "        [ 22.,  37.],\n",
      "        [103., 119.]])\n"
     ]
    }
   ],
   "source": [
    "pred = model(inputs)\n",
    "print(pred)\n",
    "print(targets)"
   ]
  },
  {
   "cell_type": "code",
   "execution_count": 46,
   "id": "832fedd6",
   "metadata": {},
   "outputs": [],
   "source": [
    "# loss function\n",
    "def mse(t1, t2):\n",
    "    diff = t1-t2\n",
    "    return torch.sum(diff*diff)/diff.numel()"
   ]
  },
  {
   "cell_type": "code",
   "execution_count": 47,
   "id": "b9f88ae8",
   "metadata": {},
   "outputs": [
    {
     "name": "stdout",
     "output_type": "stream",
     "text": [
      "tensor(3103.5847, grad_fn=<DivBackward0>)\n"
     ]
    }
   ],
   "source": [
    "loss = mse(pred, targets)\n",
    "print(loss)"
   ]
  },
  {
   "cell_type": "code",
   "execution_count": 48,
   "id": "8fc1d60e",
   "metadata": {},
   "outputs": [
    {
     "name": "stdout",
     "output_type": "stream",
     "text": [
      "tensor([[-0.0032, -0.1889,  0.5015],\n",
      "        [-0.2020,  1.1148, -0.2106]], requires_grad=True)\n",
      "tensor([[-5290.4512, -6604.7349, -3858.3799],\n",
      "        [-2111.3547, -2207.8328, -1494.9143]])\n"
     ]
    }
   ],
   "source": [
    "loss.backward()\n",
    "print(w)\n",
    "print(w.grad)"
   ]
  },
  {
   "cell_type": "code",
   "execution_count": 49,
   "id": "e9336421",
   "metadata": {},
   "outputs": [
    {
     "name": "stdout",
     "output_type": "stream",
     "text": [
      "tensor([[ 0.0497, -0.1229,  0.5401],\n",
      "        [-0.1809,  1.1369, -0.1957]], requires_grad=True)\n",
      "tensor([ 0.4821, -0.5806], requires_grad=True)\n"
     ]
    }
   ],
   "source": [
    "with torch.no_grad():\n",
    "    w-= (w.grad*1e-5)\n",
    "    b-= (b.grad*1e-5)\n",
    "    w.grad.zero_()\n",
    "    b.grad.zero_()\n",
    "print(w)\n",
    "print(b)"
   ]
  },
  {
   "cell_type": "code",
   "execution_count": 50,
   "id": "b4f6e4b1",
   "metadata": {},
   "outputs": [
    {
     "name": "stdout",
     "output_type": "stream",
     "text": [
      "tensor(2210.3462, grad_fn=<DivBackward0>)\n"
     ]
    }
   ],
   "source": [
    "pred = model(inputs)\n",
    "loss = mse(pred, targets)\n",
    "print(loss)"
   ]
  },
  {
   "cell_type": "code",
   "execution_count": 55,
   "id": "3eeee25b",
   "metadata": {},
   "outputs": [],
   "source": [
    "for i in range(100):\n",
    "    pred = model(inputs)\n",
    "    loss = mse(pred, targets)\n",
    "    loss.backward()\n",
    "    with torch.no_grad():\n",
    "        w-=w.grad*1e-5\n",
    "        b-=b.grad*1e-5\n",
    "        w.grad.zero_()\n",
    "        b.grad.zero_()"
   ]
  },
  {
   "cell_type": "code",
   "execution_count": 57,
   "id": "7361005a",
   "metadata": {},
   "outputs": [
    {
     "name": "stdout",
     "output_type": "stream",
     "text": [
      "tensor([[-0.2231,  0.6380,  0.7520],\n",
      "        [-0.1004,  1.1448,  0.0486]], requires_grad=True)\n",
      "tensor(66.6971, grad_fn=<DivBackward0>)\n",
      "tensor([[ 59.2930,  70.8806],\n",
      "        [ 84.4657,  94.1268],\n",
      "        [110.1366, 146.9194],\n",
      "        [ 33.0642,  40.2015],\n",
      "        [ 98.9521, 105.7811]], grad_fn=<AddBackward0>)\n"
     ]
    }
   ],
   "source": [
    "print(w)\n",
    "print(loss)\n",
    "print(pred)"
   ]
  },
  {
   "cell_type": "code",
   "execution_count": null,
   "id": "e60e5760",
   "metadata": {},
   "outputs": [],
   "source": []
  },
  {
   "cell_type": "code",
   "execution_count": null,
   "id": "df0c4b91",
   "metadata": {},
   "outputs": [],
   "source": []
  }
 ],
 "metadata": {
  "kernelspec": {
   "display_name": "Python 3 (ipykernel)",
   "language": "python",
   "name": "python3"
  },
  "language_info": {
   "codemirror_mode": {
    "name": "ipython",
    "version": 3
   },
   "file_extension": ".py",
   "mimetype": "text/x-python",
   "name": "python",
   "nbconvert_exporter": "python",
   "pygments_lexer": "ipython3",
   "version": "3.10.4"
  }
 },
 "nbformat": 4,
 "nbformat_minor": 5
}
