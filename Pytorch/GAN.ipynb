{
 "cells": [
  {
   "cell_type": "code",
   "execution_count": 40,
   "id": "d2584da6",
   "metadata": {},
   "outputs": [],
   "source": [
    "import torch\n",
    "import torchvision\n",
    "from torchvision.transforms import ToTensor, Normalize, Compose\n",
    "from torchvision.datasets import MNIST\n",
    "\n",
    "mnist = MNIST(root='data', \n",
    "              train=True, \n",
    "              download=True,\n",
    "              transform=Compose([ToTensor(), Normalize(mean=(0.5,), std=(0.5,))]))"
   ]
  },
  {
   "cell_type": "code",
   "execution_count": 72,
   "id": "65bec48b",
   "metadata": {},
   "outputs": [
    {
     "name": "stdout",
     "output_type": "stream",
     "text": [
      "Label:  5\n"
     ]
    },
    {
     "data": {
      "text/plain": [
       "(tensor(-1.), tensor(1.))"
      ]
     },
     "execution_count": 72,
     "metadata": {},
     "output_type": "execute_result"
    }
   ],
   "source": [
    "img, label = mnist[0]\n",
    "print('Label: ', label)\n",
    "# print(img[:])\n",
    "torch.min(img), torch.max(img) # minimum and maximum of the tensor"
   ]
  },
  {
   "cell_type": "code",
   "execution_count": 73,
   "id": "e8713e08",
   "metadata": {},
   "outputs": [],
   "source": [
    "def denorm(x):\n",
    "    \n",
    "    return ((x*0.5)/0.5)"
   ]
  },
  {
   "cell_type": "code",
   "execution_count": 74,
   "id": "5a738ac8",
   "metadata": {},
   "outputs": [
    {
     "name": "stdout",
     "output_type": "stream",
     "text": [
      "Label: 5\n"
     ]
    },
    {
     "data": {
      "image/png": "[encoded data removed]",
      "text/plain": [
       "<Figure size 432x288 with 1 Axes>"
      ]
     },
     "metadata": {
      "needs_background": "light"
     },
     "output_type": "display_data"
    }
   ],
   "source": [
    "import matplotlib.pyplot as plt\n",
    "%matplotlib inline\n",
    "\n",
    "img_norm = denorm(img)\n",
    "plt.imshow(img_norm[0], cmap='gray')\n",
    "print('Label:', label)"
   ]
  },
  {
   "cell_type": "code",
   "execution_count": 62,
   "id": "eb9b2c23",
   "metadata": {},
   "outputs": [],
   "source": [
    "from torch.utils.data import DataLoader\n",
    "\n",
    "batch_size = 100\n",
    "data_loader = DataLoader(mnist, batch_size, shuffle=True)"
   ]
  },
  {
   "cell_type": "code",
   "execution_count": 63,
   "id": "8b3e18f7",
   "metadata": {},
   "outputs": [],
   "source": [
    "image_size = 784\n",
    "hidden_size = 256\n",
    "\n",
    "import torch.nn as nn\n",
    "\n",
    "D = nn.Sequential(\n",
    "    nn.Linear(image_size, hidden_size),\n",
    "    nn.LeakyReLU(0.2),\n",
    "    nn.Linear(hidden_size, hidden_size),\n",
    "    nn.LeakyReLU(0.2),\n",
    "    nn.Linear(hidden_size, 1),\n",
    "    nn.Sigmoid())"
   ]
  },
  {
   "cell_type": "code",
   "execution_count": 64,
   "id": "b9754427",
   "metadata": {},
   "outputs": [],
   "source": [
    "latent_size = 64\n",
    "\n",
    "G = nn.Sequential(\n",
    "    nn.Linear(latent_size, hidden_size),\n",
    "    nn.ReLU(),\n",
    "    nn.Linear(hidden_size, hidden_size),\n",
    "    nn.ReLU(),\n",
    "    nn.Linear(hidden_size, image_size),\n",
    "    nn.Tanh())"
   ]
  },
  {
   "cell_type": "code",
   "execution_count": 65,
   "id": "8266da52",
   "metadata": {},
   "outputs": [],
   "source": [
    "y = G(torch.randn(2, latent_size))\n",
    "gen_imgs = denorm(y.reshape((-1, 28,28)).detach())\n"
   ]
  },
  {
   "cell_type": "code",
   "execution_count": 66,
   "id": "0c41cc6c",
   "metadata": {},
   "outputs": [
    {
     "data": {
      "text/plain": [
       "<matplotlib.image.AxesImage at 0x21aab8e7130>"
      ]
     },
     "execution_count": 66,
     "metadata": {},
     "output_type": "execute_result"
    },
    {
     "data": {
      "image/png": "[encoded data removed]",
      "text/plain": [
       "<Figure size 432x288 with 1 Axes>"
      ]
     },
     "metadata": {
      "needs_background": "light"
     },
     "output_type": "display_data"
    }
   ],
   "source": [
    "plt.imshow(gen_imgs[0], cmap='gray')"
   ]
  },
  {
   "cell_type": "code",
   "execution_count": 67,
   "id": "b8039801",
   "metadata": {},
   "outputs": [
    {
     "data": {
      "text/plain": [
       "<matplotlib.image.AxesImage at 0x21aab951f30>"
      ]
     },
     "execution_count": 67,
     "metadata": {},
     "output_type": "execute_result"
    },
    {
     "data": {
      "image/png": "[encoded data removed]",
      "text/plain": [
       "<Figure size 432x288 with 1 Axes>"
      ]
     },
     "metadata": {
      "needs_background": "light"
     },
     "output_type": "display_data"
    }
   ],
   "source": [
    "plt.imshow(gen_imgs[1], cmap='gray')"
   ]
  },
  {
   "cell_type": "code",
   "execution_count": 68,
   "id": "6688c21d",
   "metadata": {},
   "outputs": [
    {
     "name": "stdout",
     "output_type": "stream",
     "text": [
      "tensor([-0.4043,  0.5225,  0.1532, -0.8077])\n",
      "tensor([0.0000, 0.5225, 0.1532, 0.0000])\n"
     ]
    }
   ],
   "source": [
    "a = torch.randn(4)\n",
    "print(a)\n",
    "print(a.clamp(0,1))"
   ]
  },
  {
   "cell_type": "code",
   "execution_count": 75,
   "id": "2f475f60",
   "metadata": {},
   "outputs": [],
   "source": [
    "criterion = nn.BCELoss()\n",
    "d_optimizer = torch.optim.Adam(D.parameters(), lr=0.0002)\n",
    "g_optimizer = torch.optim.Adam(G.parameters(), lr=0.0002)\n",
    "\n",
    "\n",
    "def reset_grad():\n",
    "    d_optimizer.zero_grad()\n",
    "    g_optimizer.zero_grad()\n",
    "\n",
    "def train_discriminator(images):\n",
    "    # Create the labels which are later used as input for the BCE loss\n",
    "    real_labels = torch.ones(batch_size, 1)\n",
    "    fake_labels = torch.zeros(batch_size, 1)\n",
    "        \n",
    "    # Loss for real images\n",
    "    outputs = D(images)\n",
    "    d_loss_real = criterion(outputs, real_labels)\n",
    "    real_score = outputs\n",
    "\n",
    "    # Loss for fake images\n",
    "    z = torch.randn(batch_size, latent_size)\n",
    "    fake_images = G(z)\n",
    "    outputs = D(fake_images)\n",
    "    d_loss_fake = criterion(outputs, fake_labels)\n",
    "    fake_score = outputs\n",
    "\n",
    "    # Combine losses\n",
    "    d_loss = d_loss_real + d_loss_fake\n",
    "    # Reset gradients\n",
    "    reset_grad()\n",
    "    # Compute gradients\n",
    "    d_loss.backward()\n",
    "    # Adjust the parameters using backprop\n",
    "    d_optimizer.step()\n",
    "    \n",
    "    return d_loss, real_score, fake_score"
   ]
  },
  {
   "cell_type": "code",
   "execution_count": 76,
   "id": "2af80ffb",
   "metadata": {},
   "outputs": [],
   "source": [
    "def train_generator():\n",
    "    # Generate fake images and calculate loss\n",
    "    z = torch.randn(batch_size, latent_size)\n",
    "    fake_images = G(z)\n",
    "    labels = torch.ones(batch_size, 1)\n",
    "    g_loss = criterion(D(fake_images), labels)\n",
    "\n",
    "    # Backprop and optimize\n",
    "    reset_grad()\n",
    "    g_loss.backward()\n",
    "    g_optimizer.step()\n",
    "    return g_loss, fake_images"
   ]
  },
  {
   "cell_type": "code",
   "execution_count": 78,
   "id": "c75913a4",
   "metadata": {
    "scrolled": false
   },
   "outputs": [
    {
     "name": "stdout",
     "output_type": "stream",
     "text": [
      "Epoch [0/50], Step [200/600], d_loss: 0.0545, g_loss: 5.0622, D(x): 0.98, D(G(z)): 0.04\n",
      "Epoch [0/50], Step [400/600], d_loss: 0.1609, g_loss: 3.1419, D(x): 0.98, D(G(z)): 0.13\n",
      "Epoch [0/50], Step [600/600], d_loss: 0.3804, g_loss: 4.6112, D(x): 0.91, D(G(z)): 0.14\n",
      "Epoch [1/50], Step [200/600], d_loss: 0.2151, g_loss: 4.7346, D(x): 0.91, D(G(z)): 0.08\n",
      "Epoch [1/50], Step [400/600], d_loss: 0.4847, g_loss: 3.0729, D(x): 0.80, D(G(z)): 0.15\n",
      "Epoch [1/50], Step [600/600], d_loss: 1.4891, g_loss: 2.5891, D(x): 0.81, D(G(z)): 0.58\n",
      "Epoch [2/50], Step [200/600], d_loss: 0.7911, g_loss: 2.1106, D(x): 0.70, D(G(z)): 0.10\n",
      "Epoch [2/50], Step [400/600], d_loss: 0.5540, g_loss: 2.0820, D(x): 0.88, D(G(z)): 0.29\n",
      "Epoch [2/50], Step [600/600], d_loss: 0.9225, g_loss: 2.3034, D(x): 0.73, D(G(z)): 0.26\n",
      "Epoch [3/50], Step [200/600], d_loss: 0.1478, g_loss: 3.5929, D(x): 0.97, D(G(z)): 0.11\n",
      "Epoch [3/50], Step [400/600], d_loss: 0.3282, g_loss: 3.7857, D(x): 0.90, D(G(z)): 0.13\n",
      "Epoch [3/50], Step [600/600], d_loss: 0.2360, g_loss: 4.2790, D(x): 0.92, D(G(z)): 0.06\n",
      "Epoch [4/50], Step [200/600], d_loss: 0.2557, g_loss: 3.1138, D(x): 0.93, D(G(z)): 0.12\n",
      "Epoch [4/50], Step [400/600], d_loss: 0.1513, g_loss: 3.4018, D(x): 0.97, D(G(z)): 0.08\n",
      "Epoch [4/50], Step [600/600], d_loss: 0.6076, g_loss: 2.4836, D(x): 0.76, D(G(z)): 0.04\n",
      "Epoch [5/50], Step [200/600], d_loss: 0.1915, g_loss: 4.8800, D(x): 0.92, D(G(z)): 0.03\n",
      "Epoch [5/50], Step [400/600], d_loss: 0.7982, g_loss: 2.5915, D(x): 0.73, D(G(z)): 0.15\n",
      "Epoch [5/50], Step [600/600], d_loss: 0.3544, g_loss: 3.4152, D(x): 0.86, D(G(z)): 0.06\n",
      "Epoch [6/50], Step [200/600], d_loss: 0.3597, g_loss: 4.7153, D(x): 0.87, D(G(z)): 0.07\n",
      "Epoch [6/50], Step [400/600], d_loss: 0.1621, g_loss: 4.1522, D(x): 0.96, D(G(z)): 0.03\n",
      "Epoch [6/50], Step [600/600], d_loss: 0.1032, g_loss: 3.9218, D(x): 0.96, D(G(z)): 0.03\n",
      "Epoch [7/50], Step [200/600], d_loss: 0.1557, g_loss: 4.6268, D(x): 0.97, D(G(z)): 0.07\n",
      "Epoch [7/50], Step [400/600], d_loss: 0.1270, g_loss: 4.5487, D(x): 0.94, D(G(z)): 0.03\n",
      "Epoch [7/50], Step [600/600], d_loss: 0.1937, g_loss: 6.6693, D(x): 0.98, D(G(z)): 0.11\n",
      "Epoch [8/50], Step [200/600], d_loss: 0.1738, g_loss: 4.3772, D(x): 0.98, D(G(z)): 0.11\n",
      "Epoch [8/50], Step [400/600], d_loss: 0.1028, g_loss: 5.8511, D(x): 0.99, D(G(z)): 0.08\n",
      "Epoch [8/50], Step [600/600], d_loss: 0.3162, g_loss: 4.8924, D(x): 0.95, D(G(z)): 0.14\n",
      "Epoch [9/50], Step [200/600], d_loss: 0.1605, g_loss: 4.8010, D(x): 0.96, D(G(z)): 0.06\n",
      "Epoch [9/50], Step [400/600], d_loss: 0.0694, g_loss: 4.4778, D(x): 0.97, D(G(z)): 0.02\n",
      "Epoch [9/50], Step [600/600], d_loss: 0.0750, g_loss: 6.6164, D(x): 0.97, D(G(z)): 0.01\n",
      "Epoch [10/50], Step [200/600], d_loss: 0.2066, g_loss: 5.1871, D(x): 0.94, D(G(z)): 0.06\n",
      "Epoch [10/50], Step [400/600], d_loss: 0.0879, g_loss: 10.1173, D(x): 0.99, D(G(z)): 0.03\n",
      "Epoch [10/50], Step [600/600], d_loss: 0.2279, g_loss: 6.5920, D(x): 0.93, D(G(z)): 0.06\n",
      "Epoch [11/50], Step [200/600], d_loss: 0.1496, g_loss: 5.5557, D(x): 0.93, D(G(z)): 0.02\n",
      "Epoch [11/50], Step [400/600], d_loss: 0.1802, g_loss: 5.5311, D(x): 0.95, D(G(z)): 0.06\n",
      "Epoch [11/50], Step [600/600], d_loss: 0.4747, g_loss: 5.4637, D(x): 0.88, D(G(z)): 0.06\n",
      "Epoch [12/50], Step [200/600], d_loss: 0.3815, g_loss: 5.0758, D(x): 0.87, D(G(z)): 0.05\n",
      "Epoch [12/50], Step [400/600], d_loss: 0.4039, g_loss: 5.0375, D(x): 0.93, D(G(z)): 0.18\n",
      "Epoch [12/50], Step [600/600], d_loss: 0.2311, g_loss: 3.6124, D(x): 0.98, D(G(z)): 0.14\n",
      "Epoch [13/50], Step [200/600], d_loss: 0.3488, g_loss: 3.4501, D(x): 0.93, D(G(z)): 0.10\n",
      "Epoch [13/50], Step [400/600], d_loss: 0.0889, g_loss: 5.4948, D(x): 0.94, D(G(z)): 0.01\n",
      "Epoch [13/50], Step [600/600], d_loss: 0.1678, g_loss: 4.2469, D(x): 0.95, D(G(z)): 0.05\n",
      "Epoch [14/50], Step [200/600], d_loss: 0.4636, g_loss: 4.3213, D(x): 0.84, D(G(z)): 0.02\n",
      "Epoch [14/50], Step [400/600], d_loss: 0.1895, g_loss: 4.0579, D(x): 0.95, D(G(z)): 0.08\n",
      "Epoch [14/50], Step [600/600], d_loss: 0.3722, g_loss: 4.9160, D(x): 0.92, D(G(z)): 0.14\n",
      "Epoch [15/50], Step [200/600], d_loss: 0.2847, g_loss: 5.7455, D(x): 0.91, D(G(z)): 0.02\n",
      "Epoch [15/50], Step [400/600], d_loss: 0.3526, g_loss: 4.1052, D(x): 0.92, D(G(z)): 0.11\n",
      "Epoch [15/50], Step [600/600], d_loss: 0.5146, g_loss: 5.2062, D(x): 0.85, D(G(z)): 0.09\n",
      "Epoch [16/50], Step [200/600], d_loss: 0.5879, g_loss: 5.2872, D(x): 0.89, D(G(z)): 0.21\n",
      "Epoch [16/50], Step [400/600], d_loss: 0.2613, g_loss: 4.0442, D(x): 0.94, D(G(z)): 0.12\n",
      "Epoch [16/50], Step [600/600], d_loss: 0.2389, g_loss: 4.1370, D(x): 0.93, D(G(z)): 0.06\n",
      "Epoch [17/50], Step [200/600], d_loss: 0.3762, g_loss: 3.6638, D(x): 0.93, D(G(z)): 0.16\n",
      "Epoch [17/50], Step [400/600], d_loss: 0.2998, g_loss: 3.9172, D(x): 0.89, D(G(z)): 0.07\n",
      "Epoch [17/50], Step [600/600], d_loss: 0.3668, g_loss: 3.8463, D(x): 0.91, D(G(z)): 0.14\n",
      "Epoch [18/50], Step [200/600], d_loss: 0.2473, g_loss: 3.9706, D(x): 0.89, D(G(z)): 0.06\n",
      "Epoch [18/50], Step [400/600], d_loss: 0.1661, g_loss: 4.8706, D(x): 0.96, D(G(z)): 0.09\n",
      "Epoch [18/50], Step [600/600], d_loss: 0.4061, g_loss: 3.9224, D(x): 0.91, D(G(z)): 0.15\n",
      "Epoch [19/50], Step [200/600], d_loss: 0.1876, g_loss: 4.7071, D(x): 0.97, D(G(z)): 0.08\n",
      "Epoch [19/50], Step [400/600], d_loss: 0.1667, g_loss: 4.0980, D(x): 0.95, D(G(z)): 0.08\n",
      "Epoch [19/50], Step [600/600], d_loss: 0.2876, g_loss: 5.3946, D(x): 0.89, D(G(z)): 0.05\n",
      "Epoch [20/50], Step [200/600], d_loss: 0.2983, g_loss: 3.9674, D(x): 0.93, D(G(z)): 0.12\n",
      "Epoch [20/50], Step [400/600], d_loss: 0.2717, g_loss: 3.6813, D(x): 0.89, D(G(z)): 0.06\n",
      "Epoch [20/50], Step [600/600], d_loss: 0.3730, g_loss: 5.2952, D(x): 0.88, D(G(z)): 0.04\n",
      "Epoch [21/50], Step [200/600], d_loss: 0.2637, g_loss: 4.3619, D(x): 0.91, D(G(z)): 0.04\n",
      "Epoch [21/50], Step [400/600], d_loss: 0.2228, g_loss: 5.4486, D(x): 0.94, D(G(z)): 0.04\n",
      "Epoch [21/50], Step [600/600], d_loss: 0.1730, g_loss: 5.9769, D(x): 0.92, D(G(z)): 0.02\n",
      "Epoch [22/50], Step [200/600], d_loss: 0.3643, g_loss: 4.3234, D(x): 0.89, D(G(z)): 0.08\n",
      "Epoch [22/50], Step [400/600], d_loss: 0.2629, g_loss: 4.3687, D(x): 0.90, D(G(z)): 0.07\n",
      "Epoch [22/50], Step [600/600], d_loss: 0.2699, g_loss: 5.2115, D(x): 0.93, D(G(z)): 0.09\n",
      "Epoch [23/50], Step [200/600], d_loss: 0.3544, g_loss: 4.9639, D(x): 0.92, D(G(z)): 0.11\n",
      "Epoch [23/50], Step [400/600], d_loss: 0.3286, g_loss: 3.3064, D(x): 0.90, D(G(z)): 0.12\n",
      "Epoch [23/50], Step [600/600], d_loss: 0.4042, g_loss: 4.1281, D(x): 0.94, D(G(z)): 0.14\n",
      "Epoch [24/50], Step [200/600], d_loss: 0.3780, g_loss: 4.2126, D(x): 0.89, D(G(z)): 0.09\n",
      "Epoch [24/50], Step [400/600], d_loss: 0.2674, g_loss: 3.7105, D(x): 0.94, D(G(z)): 0.12\n",
      "Epoch [24/50], Step [600/600], d_loss: 0.4748, g_loss: 4.4273, D(x): 0.86, D(G(z)): 0.10\n",
      "Epoch [25/50], Step [200/600], d_loss: 0.2392, g_loss: 4.8112, D(x): 0.91, D(G(z)): 0.08\n",
      "Epoch [25/50], Step [400/600], d_loss: 0.3581, g_loss: 2.7505, D(x): 0.91, D(G(z)): 0.12\n",
      "Epoch [25/50], Step [600/600], d_loss: 0.5043, g_loss: 3.5941, D(x): 0.87, D(G(z)): 0.06\n",
      "Epoch [26/50], Step [200/600], d_loss: 0.5352, g_loss: 4.2731, D(x): 0.83, D(G(z)): 0.08\n",
      "Epoch [26/50], Step [400/600], d_loss: 0.2759, g_loss: 4.7222, D(x): 0.97, D(G(z)): 0.16\n",
      "Epoch [26/50], Step [600/600], d_loss: 0.2167, g_loss: 3.4303, D(x): 0.96, D(G(z)): 0.10\n",
      "Epoch [27/50], Step [200/600], d_loss: 0.2625, g_loss: 4.9955, D(x): 0.92, D(G(z)): 0.08\n",
      "Epoch [27/50], Step [400/600], d_loss: 0.2899, g_loss: 4.4186, D(x): 0.93, D(G(z)): 0.10\n",
      "Epoch [27/50], Step [600/600], d_loss: 0.3762, g_loss: 4.0984, D(x): 0.85, D(G(z)): 0.07\n",
      "Epoch [28/50], Step [200/600], d_loss: 0.4774, g_loss: 2.6008, D(x): 0.92, D(G(z)): 0.22\n",
      "Epoch [28/50], Step [400/600], d_loss: 0.4337, g_loss: 3.2561, D(x): 0.90, D(G(z)): 0.17\n",
      "Epoch [28/50], Step [600/600], d_loss: 0.2636, g_loss: 3.4406, D(x): 0.91, D(G(z)): 0.09\n",
      "Epoch [29/50], Step [200/600], d_loss: 0.4025, g_loss: 4.6351, D(x): 0.89, D(G(z)): 0.16\n",
      "Epoch [29/50], Step [400/600], d_loss: 0.5027, g_loss: 1.8032, D(x): 0.85, D(G(z)): 0.15\n",
      "Epoch [29/50], Step [600/600], d_loss: 0.5437, g_loss: 2.4858, D(x): 0.89, D(G(z)): 0.22\n",
      "Epoch [30/50], Step [200/600], d_loss: 0.5106, g_loss: 4.2542, D(x): 0.84, D(G(z)): 0.11\n",
      "Epoch [30/50], Step [400/600], d_loss: 0.3427, g_loss: 3.6804, D(x): 0.92, D(G(z)): 0.15\n",
      "Epoch [30/50], Step [600/600], d_loss: 0.8535, g_loss: 2.6336, D(x): 0.81, D(G(z)): 0.26\n"
     ]
    },
    {
     "name": "stdout",
     "output_type": "stream",
     "text": [
      "Epoch [31/50], Step [200/600], d_loss: 0.3868, g_loss: 2.8075, D(x): 0.84, D(G(z)): 0.10\n",
      "Epoch [31/50], Step [400/600], d_loss: 0.6306, g_loss: 2.7660, D(x): 0.84, D(G(z)): 0.23\n",
      "Epoch [31/50], Step [600/600], d_loss: 0.4479, g_loss: 3.3867, D(x): 0.86, D(G(z)): 0.14\n",
      "Epoch [32/50], Step [200/600], d_loss: 0.4081, g_loss: 2.8528, D(x): 0.93, D(G(z)): 0.21\n",
      "Epoch [32/50], Step [400/600], d_loss: 0.4768, g_loss: 3.0749, D(x): 0.88, D(G(z)): 0.16\n",
      "Epoch [32/50], Step [600/600], d_loss: 0.3586, g_loss: 3.5742, D(x): 0.89, D(G(z)): 0.12\n",
      "Epoch [33/50], Step [200/600], d_loss: 0.3284, g_loss: 4.2464, D(x): 0.88, D(G(z)): 0.08\n",
      "Epoch [33/50], Step [400/600], d_loss: 0.4337, g_loss: 3.3648, D(x): 0.87, D(G(z)): 0.12\n",
      "Epoch [33/50], Step [600/600], d_loss: 0.4300, g_loss: 5.0619, D(x): 0.84, D(G(z)): 0.03\n",
      "Epoch [34/50], Step [200/600], d_loss: 0.3279, g_loss: 3.7646, D(x): 0.93, D(G(z)): 0.11\n",
      "Epoch [34/50], Step [400/600], d_loss: 0.3979, g_loss: 3.4267, D(x): 0.97, D(G(z)): 0.22\n",
      "Epoch [34/50], Step [600/600], d_loss: 0.1098, g_loss: 4.5735, D(x): 0.96, D(G(z)): 0.04\n",
      "Epoch [35/50], Step [200/600], d_loss: 0.2111, g_loss: 4.3432, D(x): 0.91, D(G(z)): 0.06\n",
      "Epoch [35/50], Step [400/600], d_loss: 0.2422, g_loss: 4.4052, D(x): 0.93, D(G(z)): 0.08\n",
      "Epoch [35/50], Step [600/600], d_loss: 0.2251, g_loss: 4.1551, D(x): 0.94, D(G(z)): 0.11\n",
      "Epoch [36/50], Step [200/600], d_loss: 0.2650, g_loss: 4.2130, D(x): 0.88, D(G(z)): 0.04\n",
      "Epoch [36/50], Step [400/600], d_loss: 0.4101, g_loss: 3.1796, D(x): 0.93, D(G(z)): 0.18\n",
      "Epoch [36/50], Step [600/600], d_loss: 0.6730, g_loss: 3.0035, D(x): 0.80, D(G(z)): 0.14\n",
      "Epoch [37/50], Step [200/600], d_loss: 0.4774, g_loss: 3.7896, D(x): 0.87, D(G(z)): 0.17\n",
      "Epoch [37/50], Step [400/600], d_loss: 0.4920, g_loss: 3.0029, D(x): 0.83, D(G(z)): 0.08\n",
      "Epoch [37/50], Step [600/600], d_loss: 0.5298, g_loss: 3.5606, D(x): 0.89, D(G(z)): 0.18\n",
      "Epoch [38/50], Step [200/600], d_loss: 0.6541, g_loss: 2.6788, D(x): 0.87, D(G(z)): 0.24\n",
      "Epoch [38/50], Step [400/600], d_loss: 0.3555, g_loss: 2.8896, D(x): 0.90, D(G(z)): 0.14\n",
      "Epoch [38/50], Step [600/600], d_loss: 0.4163, g_loss: 3.4854, D(x): 0.84, D(G(z)): 0.12\n",
      "Epoch [39/50], Step [200/600], d_loss: 0.5539, g_loss: 2.5833, D(x): 0.88, D(G(z)): 0.25\n",
      "Epoch [39/50], Step [400/600], d_loss: 0.5407, g_loss: 2.8508, D(x): 0.84, D(G(z)): 0.18\n",
      "Epoch [39/50], Step [600/600], d_loss: 0.7108, g_loss: 2.4525, D(x): 0.77, D(G(z)): 0.19\n",
      "Epoch [40/50], Step [200/600], d_loss: 0.5101, g_loss: 2.5405, D(x): 0.86, D(G(z)): 0.18\n",
      "Epoch [40/50], Step [400/600], d_loss: 0.6493, g_loss: 3.4441, D(x): 0.76, D(G(z)): 0.09\n",
      "Epoch [40/50], Step [600/600], d_loss: 0.8696, g_loss: 1.9359, D(x): 0.93, D(G(z)): 0.40\n",
      "Epoch [41/50], Step [200/600], d_loss: 0.3829, g_loss: 3.1044, D(x): 0.87, D(G(z)): 0.14\n",
      "Epoch [41/50], Step [400/600], d_loss: 0.3772, g_loss: 3.1993, D(x): 0.85, D(G(z)): 0.11\n",
      "Epoch [41/50], Step [600/600], d_loss: 0.6861, g_loss: 2.2947, D(x): 0.75, D(G(z)): 0.16\n",
      "Epoch [42/50], Step [200/600], d_loss: 0.3055, g_loss: 3.1173, D(x): 0.87, D(G(z)): 0.09\n",
      "Epoch [42/50], Step [400/600], d_loss: 0.5739, g_loss: 2.4409, D(x): 0.80, D(G(z)): 0.16\n",
      "Epoch [42/50], Step [600/600], d_loss: 0.6502, g_loss: 2.0620, D(x): 0.93, D(G(z)): 0.35\n",
      "Epoch [43/50], Step [200/600], d_loss: 0.5212, g_loss: 2.6786, D(x): 0.83, D(G(z)): 0.17\n",
      "Epoch [43/50], Step [400/600], d_loss: 0.5293, g_loss: 2.6162, D(x): 0.85, D(G(z)): 0.17\n",
      "Epoch [43/50], Step [600/600], d_loss: 0.6426, g_loss: 2.7231, D(x): 0.90, D(G(z)): 0.27\n",
      "Epoch [44/50], Step [200/600], d_loss: 0.3921, g_loss: 3.7070, D(x): 0.85, D(G(z)): 0.10\n",
      "Epoch [44/50], Step [400/600], d_loss: 0.4706, g_loss: 3.6121, D(x): 0.86, D(G(z)): 0.18\n",
      "Epoch [44/50], Step [600/600], d_loss: 0.4847, g_loss: 4.6821, D(x): 0.94, D(G(z)): 0.23\n",
      "Epoch [45/50], Step [200/600], d_loss: 0.5396, g_loss: 4.4704, D(x): 0.79, D(G(z)): 0.05\n",
      "Epoch [45/50], Step [400/600], d_loss: 0.3879, g_loss: 3.9934, D(x): 0.91, D(G(z)): 0.16\n",
      "Epoch [45/50], Step [600/600], d_loss: 0.3660, g_loss: 3.9874, D(x): 0.93, D(G(z)): 0.17\n",
      "Epoch [46/50], Step [200/600], d_loss: 0.3328, g_loss: 6.6484, D(x): 0.89, D(G(z)): 0.07\n",
      "Epoch [46/50], Step [400/600], d_loss: 0.5412, g_loss: 3.5473, D(x): 0.87, D(G(z)): 0.18\n",
      "Epoch [46/50], Step [600/600], d_loss: 0.3966, g_loss: 3.0852, D(x): 0.86, D(G(z)): 0.13\n",
      "Epoch [47/50], Step [200/600], d_loss: 0.3795, g_loss: 3.2654, D(x): 0.85, D(G(z)): 0.08\n",
      "Epoch [47/50], Step [400/600], d_loss: 0.3852, g_loss: 2.3532, D(x): 0.92, D(G(z)): 0.18\n",
      "Epoch [47/50], Step [600/600], d_loss: 0.7218, g_loss: 2.7194, D(x): 0.77, D(G(z)): 0.19\n",
      "Epoch [48/50], Step [200/600], d_loss: 0.5498, g_loss: 2.8992, D(x): 0.82, D(G(z)): 0.16\n",
      "Epoch [48/50], Step [400/600], d_loss: 0.3949, g_loss: 3.3819, D(x): 0.84, D(G(z)): 0.11\n",
      "Epoch [48/50], Step [600/600], d_loss: 0.5452, g_loss: 2.3512, D(x): 0.84, D(G(z)): 0.20\n",
      "Epoch [49/50], Step [200/600], d_loss: 0.7170, g_loss: 2.1850, D(x): 0.74, D(G(z)): 0.14\n",
      "Epoch [49/50], Step [400/600], d_loss: 0.5360, g_loss: 1.7760, D(x): 0.82, D(G(z)): 0.16\n",
      "Epoch [49/50], Step [600/600], d_loss: 0.5614, g_loss: 2.6737, D(x): 0.83, D(G(z)): 0.16\n",
      "CPU times: total: 3h 22min 44s\n",
      "Wall time: 50min 58s\n"
     ]
    }
   ],
   "source": [
    "%%time\n",
    "\n",
    "\n",
    "\n",
    "num_epochs = 50\n",
    "total_step = len(data_loader)\n",
    "d_losses, g_losses, real_scores, fake_scores = [], [], [], []\n",
    "\n",
    "for epoch in range(num_epochs):\n",
    "    for i, (images, _) in enumerate(data_loader):\n",
    "        # Load a batch & transform to vectors\n",
    "        images = images.reshape(batch_size, -1)\n",
    "        \n",
    "        # Train the discriminator and generator\n",
    "        d_loss, real_score, fake_score = train_discriminator(images)\n",
    "        g_loss, fake_images = train_generator()\n",
    "        \n",
    "        # Inspect the losses\n",
    "        if (i+1) % 200 == 0:\n",
    "            d_losses.append(d_loss.item())\n",
    "            g_losses.append(g_loss.item())\n",
    "            real_scores.append(real_score.mean().item())\n",
    "            fake_scores.append(fake_score.mean().item())\n",
    "            print('Epoch [{}/{}], Step [{}/{}], d_loss: {:.4f}, g_loss: {:.4f}, D(x): {:.2f}, D(G(z)): {:.2f}' \n",
    "                  .format(epoch, num_epochs, i+1, total_step, d_loss.item(), g_loss.item(), \n",
    "                          real_score.mean().item(), fake_score.mean().item()))\n",
    "        "
   ]
  },
  {
   "cell_type": "code",
   "execution_count": null,
   "id": "1eaaeb0c",
   "metadata": {},
   "outputs": [],
   "source": []
  }
 ],
 "metadata": {
  "kernelspec": {
   "display_name": "Python 3 (ipykernel)",
   "language": "python",
   "name": "python3"
  },
  "language_info": {
   "codemirror_mode": {
    "name": "ipython",
    "version": 3
   },
   "file_extension": ".py",
   "mimetype": "text/x-python",
   "name": "python",
   "nbconvert_exporter": "python",
   "pygments_lexer": "ipython3",
   "version": "3.10.4"
  }
 },
 "nbformat": 4,
 "nbformat_minor": 5
}
