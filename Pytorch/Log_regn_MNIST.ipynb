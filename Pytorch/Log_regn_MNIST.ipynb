{
 "cells": [
  {
   "cell_type": "code",
   "execution_count": 2,
   "id": "5f800a54",
   "metadata": {},
   "outputs": [],
   "source": [
    "import torch\n",
    "import torchvision\n",
    "from torchvision.datasets import MNIST\n",
    "model = torch.nn.Linear(28*28,10)\n",
    "loss_fn = torch.nn.functional.cross_entropy\n",
    "opt = torch.optim.SGD(model.parameters(), 0.001)"
   ]
  },
  {
   "cell_type": "code",
   "execution_count": 4,
   "id": "c7388a71",
   "metadata": {},
   "outputs": [],
   "source": [
    "dataset = MNIST(root = 'data/', train = True, download = True)\n",
    "# Dataset is the list or iterable object having tuples and each tuple has pixel and label"
   ]
  },
  {
   "cell_type": "code",
   "execution_count": 3,
   "id": "c9eb5b3f",
   "metadata": {},
   "outputs": [],
   "source": [
    "test_dataset = MNIST(root = 'data/', train = False)"
   ]
  },
  {
   "cell_type": "code",
   "execution_count": 4,
   "id": "c7a63ed4",
   "metadata": {},
   "outputs": [
    {
     "name": "stdout",
     "output_type": "stream",
     "text": [
      "Dataset MNIST\n",
      "    Number of datapoints: 60000\n",
      "    Root location: data/\n",
      "    Split: Train\n",
      "    StandardTransform\n",
      "Transform: ToTensor()\n"
     ]
    }
   ],
   "source": [
    "# Converting data into tensor\n",
    "import torchvision.transforms as transforms\n",
    "dataset = MNIST(root = 'data/', train = True, download = True, transform = transforms.ToTensor() )"
   ]
  },
  {
   "cell_type": "code",
   "execution_count": 7,
   "id": "9d12d884",
   "metadata": {},
   "outputs": [
    {
     "ename": "AttributeError",
     "evalue": "'Subset' object has no attribute 'size'",
     "output_type": "error",
     "traceback": [
      "\u001b[1;31m---------------------------------------------------------------------------\u001b[0m",
      "\u001b[1;31mAttributeError\u001b[0m                            Traceback (most recent call last)",
      "Input \u001b[1;32mIn [7]\u001b[0m, in \u001b[0;36m<cell line: 4>\u001b[1;34m()\u001b[0m\n\u001b[0;32m      2\u001b[0m \u001b[38;5;28;01mfrom\u001b[39;00m \u001b[38;5;21;01mtorch\u001b[39;00m\u001b[38;5;21;01m.\u001b[39;00m\u001b[38;5;21;01mutils\u001b[39;00m\u001b[38;5;21;01m.\u001b[39;00m\u001b[38;5;21;01mdata\u001b[39;00m \u001b[38;5;28;01mimport\u001b[39;00m random_split\n\u001b[0;32m      3\u001b[0m train_data, val_data \u001b[38;5;241m=\u001b[39m random_split(dataset, [\u001b[38;5;241m50000\u001b[39m, \u001b[38;5;241m10000\u001b[39m])\n\u001b[1;32m----> 4\u001b[0m \u001b[38;5;28mprint\u001b[39m(\u001b[43mtrain_data\u001b[49m\u001b[38;5;241;43m.\u001b[39;49m\u001b[43msize\u001b[49m())\n",
      "\u001b[1;31mAttributeError\u001b[0m: 'Subset' object has no attribute 'size'"
     ]
    }
   ],
   "source": [
    "# Splitting the data into training and validation sets\n",
    "from torch.utils.data import random_split\n",
    "train_data, val_data = random_split(dataset, [50000, 10000])"
   ]
  },
  {
   "cell_type": "code",
   "execution_count": 6,
   "id": "5ee0cba9",
   "metadata": {},
   "outputs": [],
   "source": [
    "# Converting data into batches for training and validation\n",
    "from torch.utils.data import DataLoader\n",
    "batch_size = 100\n",
    "train_loader = DataLoader(train_data,batch_size, shuffle = True)\n",
    "# Shuffle set to true to get different batch of data every epoch\n",
    "val_loader = DataLoader(val_data, batch_size)"
   ]
  },
  {
   "cell_type": "code",
   "execution_count": 7,
   "id": "4067e6e8",
   "metadata": {},
   "outputs": [],
   "source": [
    "# import torch.nn\n",
    "# input_size = 28*28\n",
    "# num_classes = 10\n",
    "# class MnistModel(torch.nn.Module):\n",
    "#     def __init__(self):\n",
    "#         super().__init__()\n",
    "#         self.linear = torch.nn.Linear(input_size, num_classes)\n",
    "    \n",
    "#     def forward(self, xb):\n",
    "#         xb = xb.reshape(-1, 784)\n",
    "#         out = self.linear(xb)\n",
    "#         return out\n",
    "\n",
    "# model = MnistModel()"
   ]
  },
  {
   "cell_type": "code",
   "execution_count": 17,
   "id": "01b90381",
   "metadata": {},
   "outputs": [],
   "source": [
    "import torch.nn\n",
    "import torch.optim\n",
    "import torch.nn.functional\n",
    "\n",
    "\n",
    "def fit(epochs):\n",
    "\n",
    "    dl = {}\n",
    "    da = {}\n",
    "\n",
    "    for epoch in range(5):\n",
    "\n",
    "        l = []\n",
    "        a = []\n",
    "\n",
    "        for image, labels in train_loader:\n",
    "            # Predicted \n",
    "            pred = model(image.reshape(-1,784))\n",
    "#             print(pred.shape)\n",
    "#             print(labels.shape)\n",
    "#             print(pred[3])\n",
    "#             print(torch.nn.functional.softmax(pred[3]))\n",
    "#             print(labels[3])\n",
    "            # loss calculation\n",
    "            loss = loss_fn(pred, labels)\n",
    "            # Gradient calculation\n",
    "            loss.backward()\n",
    "            # Weight adjusting\n",
    "            opt.step()\n",
    "            # Setting gradient to zero\n",
    "            opt.zero_grad()\n",
    "            break\n",
    "\n",
    "        for image, labels in val_loader:\n",
    "            # Predicted\n",
    "            pred = model(image.reshape(-1,784))\n",
    "            # loss calculation\n",
    "            loss = loss_fn(pred, labels)\n",
    "            # accuracy calulation\n",
    "            _, pred = torch.max(pred, dim = 1)\n",
    "            acc = (torch.sum(pred == labels).item()/len(pred))\n",
    "\n",
    "            l.append(loss)\n",
    "            a.append(acc)\n",
    "\n",
    "\n",
    "        dl[epoch+1] = sum(l)/len(l)\n",
    "        da[epoch+1] = sum(a)/len(a)\n",
    "\n",
    "#         print('Epoch loss : ', torch.stack(l).mean())\n",
    "#         print('Epoch accu : ', torch.stack(a).mean())\n",
    "#         print(dl)\n",
    "        print(da)\n",
    "\n",
    "    return da\n",
    "        "
   ]
  },
  {
   "cell_type": "code",
   "execution_count": 18,
   "id": "b2feeaee",
   "metadata": {},
   "outputs": [
    {
     "name": "stdout",
     "output_type": "stream",
     "text": [
      "torch.Size([100, 10])\n",
      "torch.Size([100])\n",
      "tensor([ 0.1735, -0.0443, -0.4107,  0.0774,  0.1146, -0.0288,  0.0583, -0.2257,\n",
      "        -0.2501, -0.2933], grad_fn=<SelectBackward0>)\n",
      "tensor([0.1270, 0.1021, 0.0708, 0.1154, 0.1197, 0.1037, 0.1132, 0.0852, 0.0832,\n",
      "        0.0796], grad_fn=<SoftmaxBackward0>)\n",
      "tensor(5)\n"
     ]
    },
    {
     "name": "stderr",
     "output_type": "stream",
     "text": [
      "C:\\Users\\RuturajMane\\AppData\\Local\\Temp\\ipykernel_3788\\4094637638.py:22: UserWarning: Implicit dimension choice for softmax has been deprecated. Change the call to include dim=X as an argument.\n",
      "  print(torch.nn.functional.softmax(pred[3]))\n"
     ]
    },
    {
     "name": "stdout",
     "output_type": "stream",
     "text": [
      "{1: 0.09099999999999996}\n",
      "torch.Size([100, 10])\n",
      "torch.Size([100])\n",
      "tensor([ 0.0154, -0.2422, -0.1200, -0.3808,  0.0101,  0.0746, -0.0088, -0.5384,\n",
      "         0.0985, -0.0865], grad_fn=<SelectBackward0>)\n",
      "tensor([0.1122, 0.0867, 0.0980, 0.0755, 0.1116, 0.1190, 0.1095, 0.0645, 0.1219,\n",
      "        0.1013], grad_fn=<SoftmaxBackward0>)\n",
      "tensor(2)\n",
      "{1: 0.09099999999999996, 2: 0.09179999999999999}\n",
      "torch.Size([100, 10])\n",
      "torch.Size([100])\n",
      "tensor([-0.3242, -0.0696,  0.1690, -0.0400, -0.0175,  0.3550,  0.1431, -0.3279,\n",
      "        -0.0616,  0.1849], grad_fn=<SelectBackward0>)\n",
      "tensor([0.0707, 0.0912, 0.1158, 0.0939, 0.0961, 0.1395, 0.1128, 0.0704, 0.0919,\n",
      "        0.1176], grad_fn=<SoftmaxBackward0>)\n",
      "tensor(2)\n",
      "{1: 0.09099999999999996, 2: 0.09179999999999999, 3: 0.0935}\n",
      "torch.Size([100, 10])\n",
      "torch.Size([100])\n",
      "tensor([-0.0950,  0.0078,  0.0095,  0.2901, -0.0288,  0.1522,  0.1608,  0.0518,\n",
      "        -0.1665, -0.1921], grad_fn=<SelectBackward0>)\n",
      "tensor([0.0883, 0.0979, 0.0980, 0.1298, 0.0943, 0.1131, 0.1140, 0.1023, 0.0822,\n",
      "        0.0801], grad_fn=<SoftmaxBackward0>)\n",
      "tensor(3)\n",
      "{1: 0.09099999999999996, 2: 0.09179999999999999, 3: 0.0935, 4: 0.09519999999999998}\n",
      "torch.Size([100, 10])\n",
      "torch.Size([100])\n",
      "tensor([-0.2763, -0.0197,  0.0047, -0.0414,  0.0887,  0.3774,  0.1825, -0.2508,\n",
      "         0.0129, -0.2975], grad_fn=<SelectBackward0>)\n",
      "tensor([0.0759, 0.0982, 0.1006, 0.0961, 0.1094, 0.1460, 0.1202, 0.0779, 0.1014,\n",
      "        0.0744], grad_fn=<SoftmaxBackward0>)\n",
      "tensor(1)\n",
      "{1: 0.09099999999999996, 2: 0.09179999999999999, 3: 0.0935, 4: 0.09519999999999998, 5: 0.09659999999999998}\n"
     ]
    }
   ],
   "source": [
    "da1 = fit(5)"
   ]
  },
  {
   "cell_type": "code",
   "execution_count": 144,
   "id": "c9bd9950",
   "metadata": {},
   "outputs": [
    {
     "name": "stdout",
     "output_type": "stream",
     "text": [
      "{1: 0.8425999999999996}\n",
      "{1: 0.8425999999999996, 2: 0.8461999999999995}\n",
      "{1: 0.8425999999999996, 2: 0.8461999999999995, 3: 0.8490999999999996}\n",
      "{1: 0.8425999999999996, 2: 0.8461999999999995, 3: 0.8490999999999996, 4: 0.8512}\n",
      "{1: 0.8425999999999996, 2: 0.8461999999999995, 3: 0.8490999999999996, 4: 0.8512, 5: 0.8519}\n"
     ]
    }
   ],
   "source": [
    "da2 = fit(5)"
   ]
  },
  {
   "cell_type": "code",
   "execution_count": 145,
   "id": "84f3a4de",
   "metadata": {},
   "outputs": [
    {
     "name": "stdout",
     "output_type": "stream",
     "text": [
      "{1: 0.8536}\n",
      "{1: 0.8536, 2: 0.8554999999999997}\n",
      "{1: 0.8536, 2: 0.8554999999999997, 3: 0.8572}\n",
      "{1: 0.8536, 2: 0.8554999999999997, 3: 0.8572, 4: 0.8579000000000001}\n",
      "{1: 0.8536, 2: 0.8554999999999997, 3: 0.8572, 4: 0.8579000000000001, 5: 0.8591000000000002}\n"
     ]
    }
   ],
   "source": [
    "da3 = fit(5)\n"
   ]
  },
  {
   "cell_type": "code",
   "execution_count": 148,
   "id": "b9493287",
   "metadata": {},
   "outputs": [
    {
     "name": "stdout",
     "output_type": "stream",
     "text": [
      "0.8708\n"
     ]
    }
   ],
   "source": [
    "test_dataset = MNIST(root='data/', \n",
    "                     train=False,\n",
    "                     transform=transforms.ToTensor())\n",
    "len(test_dataset)\n",
    "j=0\n",
    "for i in range(len(test_dataset)):\n",
    "    image, label = test_dataset[i]\n",
    "    pred = model(image.reshape(-1,784))\n",
    "    _, pred = torch.max(pred, dim = 1)\n",
    "#     print(pred)\n",
    "#     print(label)\n",
    "    if pred == label:\n",
    "        j+=1\n",
    "print(j/len(test_dataset))"
   ]
  },
  {
   "cell_type": "code",
   "execution_count": 161,
   "id": "9808dc52",
   "metadata": {},
   "outputs": [
    {
     "name": "stdout",
     "output_type": "stream",
     "text": [
      "[0, 1, 2, 3, 4, 5, 6, 7, 8, 9, 10, 11, 12, 13, 14] [0.8227, 0.829, 0.8347999999999997, 0.8378999999999996, 0.8398999999999996, 0.8425999999999996, 0.8461999999999995, 0.8490999999999996, 0.8512, 0.8519, 0.8536, 0.8554999999999997, 0.8572, 0.8579000000000001, 0.8591000000000002]\n"
     ]
    },
    {
     "data": {
      "image/png": "[encoded data removed]",
      "text/plain": [
       "<Figure size 432x288 with 1 Axes>"
      ]
     },
     "metadata": {
      "needs_background": "light"
     },
     "output_type": "display_data"
    }
   ],
   "source": [
    "import matplotlib.pyplot \n",
    "import itertools\n",
    "x = [i for i in range(15)]\n",
    "y = []\n",
    "for i in [da1,da2,da3]:\n",
    "    y.append(list(i.values()))\n",
    "y = list(itertools.chain(*y))\n",
    "print(x,y)\n",
    "matplotlib.pyplot.plot(x,y)\n",
    "matplotlib.pyplot.xlabel('Number of epochs ')\n",
    "matplotlib.pyplot.ylabel('Accuracy')\n",
    "matplotlib.pyplot.title('MNIST Accuracy plot')\n",
    "matplotlib.pyplot.show()\n"
   ]
  },
  {
   "cell_type": "code",
   "execution_count": 162,
   "id": "f37599d8",
   "metadata": {},
   "outputs": [],
   "source": [
    "# Saving model the model\n",
    "torch.save(model.state_dict(), 'mnist-logisti.pth')"
   ]
  },
  {
   "cell_type": "code",
   "execution_count": 163,
   "id": "8ab7df63",
   "metadata": {},
   "outputs": [
    {
     "data": {
      "text/plain": [
       "OrderedDict([('weight',\n",
       "              tensor([[ 0.0169,  0.0146, -0.0226,  ..., -0.0054,  0.0041,  0.0235],\n",
       "                      [-0.0188,  0.0290, -0.0327,  ..., -0.0188,  0.0218, -0.0172],\n",
       "                      [-0.0265, -0.0182, -0.0156,  ...,  0.0152, -0.0016,  0.0339],\n",
       "                      ...,\n",
       "                      [ 0.0123, -0.0015,  0.0042,  ...,  0.0184, -0.0097,  0.0288],\n",
       "                      [-0.0016, -0.0236, -0.0312,  ...,  0.0311, -0.0193, -0.0241],\n",
       "                      [-0.0317,  0.0099, -0.0331,  ..., -0.0125,  0.0310, -0.0004]])),\n",
       "             ('bias',\n",
       "              tensor([-0.0538,  0.0944,  0.0016, -0.0286,  0.0157,  0.0529, -0.0254,  0.0258,\n",
       "                      -0.1246,  0.0141]))])"
      ]
     },
     "execution_count": 163,
     "metadata": {},
     "output_type": "execute_result"
    }
   ],
   "source": [
    "model.state_dict()"
   ]
  },
  {
   "cell_type": "code",
   "execution_count": 164,
   "id": "3d51ccf6",
   "metadata": {},
   "outputs": [],
   "source": [
    "model2 = torch.nn.Linear(28*28,10)"
   ]
  },
  {
   "cell_type": "code",
   "execution_count": 165,
   "id": "1c859792",
   "metadata": {},
   "outputs": [
    {
     "data": {
      "text/plain": [
       "OrderedDict([('weight',\n",
       "              tensor([[-0.0210, -0.0219,  0.0290,  ...,  0.0286, -0.0166, -0.0313],\n",
       "                      [ 0.0346,  0.0302,  0.0254,  ...,  0.0127, -0.0253,  0.0004],\n",
       "                      [ 0.0041,  0.0016,  0.0305,  ..., -0.0317, -0.0001,  0.0004],\n",
       "                      ...,\n",
       "                      [ 0.0299,  0.0085,  0.0311,  ..., -0.0024, -0.0243,  0.0321],\n",
       "                      [ 0.0017,  0.0281, -0.0126,  ..., -0.0297, -0.0171, -0.0058],\n",
       "                      [-0.0170,  0.0103,  0.0343,  ..., -0.0241,  0.0163,  0.0124]])),\n",
       "             ('bias',\n",
       "              tensor([ 0.0177, -0.0189, -0.0331,  0.0153,  0.0174,  0.0125,  0.0158,  0.0192,\n",
       "                       0.0022,  0.0215]))])"
      ]
     },
     "execution_count": 165,
     "metadata": {},
     "output_type": "execute_result"
    }
   ],
   "source": [
    "model2.state_dict()"
   ]
  },
  {
   "cell_type": "code",
   "execution_count": 166,
   "id": "5520f45c",
   "metadata": {},
   "outputs": [
    {
     "name": "stdout",
     "output_type": "stream",
     "text": [
      "0.13\n"
     ]
    }
   ],
   "source": [
    "test_dataset = MNIST(root='data/', \n",
    "                     train=False,\n",
    "                     transform=transforms.ToTensor())\n",
    "len(test_dataset)\n",
    "j=0\n",
    "for i in range(len(test_dataset)):\n",
    "    image, label = test_dataset[i]\n",
    "    pred = model2(image.reshape(-1,784))\n",
    "    _, pred = torch.max(pred, dim = 1)\n",
    "#     print(pred)\n",
    "#     print(label)\n",
    "    if pred == label:\n",
    "        j+=1\n",
    "print(j/len(test_dataset))"
   ]
  },
  {
   "cell_type": "code",
   "execution_count": 167,
   "id": "2c813e6e",
   "metadata": {},
   "outputs": [
    {
     "data": {
      "text/plain": [
       "OrderedDict([('weight',\n",
       "              tensor([[ 0.0169,  0.0146, -0.0226,  ..., -0.0054,  0.0041,  0.0235],\n",
       "                      [-0.0188,  0.0290, -0.0327,  ..., -0.0188,  0.0218, -0.0172],\n",
       "                      [-0.0265, -0.0182, -0.0156,  ...,  0.0152, -0.0016,  0.0339],\n",
       "                      ...,\n",
       "                      [ 0.0123, -0.0015,  0.0042,  ...,  0.0184, -0.0097,  0.0288],\n",
       "                      [-0.0016, -0.0236, -0.0312,  ...,  0.0311, -0.0193, -0.0241],\n",
       "                      [-0.0317,  0.0099, -0.0331,  ..., -0.0125,  0.0310, -0.0004]])),\n",
       "             ('bias',\n",
       "              tensor([-0.0538,  0.0944,  0.0016, -0.0286,  0.0157,  0.0529, -0.0254,  0.0258,\n",
       "                      -0.1246,  0.0141]))])"
      ]
     },
     "execution_count": 167,
     "metadata": {},
     "output_type": "execute_result"
    }
   ],
   "source": [
    "model2.load_state_dict((torch.load('mnist-logisti.pth')))\n",
    "model2.state_dict()"
   ]
  },
  {
   "cell_type": "code",
   "execution_count": 168,
   "id": "6932a9e6",
   "metadata": {},
   "outputs": [
    {
     "name": "stdout",
     "output_type": "stream",
     "text": [
      "0.8708\n"
     ]
    }
   ],
   "source": [
    "test_dataset = MNIST(root='data/', \n",
    "                     train=False,\n",
    "                     transform=transforms.ToTensor())\n",
    "len(test_dataset)\n",
    "j=0\n",
    "for i in range(len(test_dataset)):\n",
    "    image, label = test_dataset[i]\n",
    "    pred = model2(image.reshape(-1,784))\n",
    "    _, pred = torch.max(pred, dim = 1)\n",
    "#     print(pred)\n",
    "#     print(label)\n",
    "    if pred == label:\n",
    "        j+=1\n",
    "print(j/len(test_dataset))"
   ]
  },
  {
   "cell_type": "code",
   "execution_count": null,
   "id": "e50e848a",
   "metadata": {},
   "outputs": [],
   "source": []
  }
 ],
 "metadata": {
  "kernelspec": {
   "display_name": "Python 3 (ipykernel)",
   "language": "python",
   "name": "python3"
  },
  "language_info": {
   "codemirror_mode": {
    "name": "ipython",
    "version": 3
   },
   "file_extension": ".py",
   "mimetype": "text/x-python",
   "name": "python",
   "nbconvert_exporter": "python",
   "pygments_lexer": "ipython3",
   "version": "3.10.4"
  }
 },
 "nbformat": 4,
 "nbformat_minor": 5
}
