{
 "cells": [
  {
   "cell_type": "code",
   "execution_count": 1,
   "id": "b6e3eb02",
   "metadata": {},
   "outputs": [],
   "source": [
    "# Input (temp, rainfall, humidity)\n",
    "import numpy as np\n",
    "import torch\n",
    "inputs = np.array([[73, 67, 43], \n",
    "                   [91, 88, 64], \n",
    "                   [87, 134, 58], \n",
    "                   [102, 43, 37], \n",
    "                   [69, 96, 70], \n",
    "                   [74, 66, 43], \n",
    "                   [91, 87, 65], \n",
    "                   [88, 134, 59], \n",
    "                   [101, 44, 37], \n",
    "                   [68, 96, 71], \n",
    "                   [73, 66, 44], \n",
    "                   [92, 87, 64], \n",
    "                   [87, 135, 57], \n",
    "                   [103, 43, 36], \n",
    "                   [68, 97, 70]], \n",
    "                  dtype='float32')\n",
    "\n",
    "# Targets (apples, oranges)\n",
    "targets = np.array([[56, 70], \n",
    "                    [81, 101], \n",
    "                    [119, 133], \n",
    "                    [22, 37], \n",
    "                    [103, 119],\n",
    "                    [57, 69], \n",
    "                    [80, 102], \n",
    "                    [118, 132], \n",
    "                    [21, 38], \n",
    "                    [104, 118], \n",
    "                    [57, 69], \n",
    "                    [82, 100], \n",
    "                    [118, 134], \n",
    "                    [20, 38], \n",
    "                    [102, 120]], \n",
    "                   dtype='float32')\n",
    "\n",
    "inputs = torch.from_numpy(inputs)\n",
    "targets = torch.from_numpy(targets)"
   ]
  },
  {
   "cell_type": "code",
   "execution_count": 2,
   "id": "c0502d35",
   "metadata": {},
   "outputs": [],
   "source": [
    "from torch.utils.data import TensorDataset"
   ]
  },
  {
   "cell_type": "code",
   "execution_count": 11,
   "id": "037ca2b4",
   "metadata": {},
   "outputs": [
    {
     "name": "stdout",
     "output_type": "stream",
     "text": [
      "15\n"
     ]
    },
    {
     "data": {
      "text/plain": [
       "(tensor([[ 73.,  67.,  43.],\n",
       "         [ 91.,  88.,  64.],\n",
       "         [ 87., 134.,  58.]]),\n",
       " tensor([[ 56.,  70.],\n",
       "         [ 81., 101.],\n",
       "         [119., 133.]]))"
      ]
     },
     "execution_count": 11,
     "metadata": {},
     "output_type": "execute_result"
    }
   ],
   "source": [
    "train_ds = TensorDataset(inputs, targets)\n",
    "print(len(train_ds))\n",
    "train_ds[0:3]\n"
   ]
  },
  {
   "cell_type": "code",
   "execution_count": 8,
   "id": "8d7a4a3c",
   "metadata": {},
   "outputs": [],
   "source": [
    "from torch.utils.data import DataLoader\n",
    "batch_size = 5\n",
    "train_dl = DataLoader(train_ds, batch_size, shuffle= False)"
   ]
  },
  {
   "cell_type": "code",
   "execution_count": 9,
   "id": "47185329",
   "metadata": {},
   "outputs": [
    {
     "name": "stdout",
     "output_type": "stream",
     "text": [
      "Batch  : 1\n",
      "tensor([[ 73.,  67.,  43.],\n",
      "        [ 91.,  88.,  64.],\n",
      "        [ 87., 134.,  58.],\n",
      "        [102.,  43.,  37.],\n",
      "        [ 69.,  96.,  70.]])\n",
      "tensor([[ 56.,  70.],\n",
      "        [ 81., 101.],\n",
      "        [119., 133.],\n",
      "        [ 22.,  37.],\n",
      "        [103., 119.]])\n",
      "Batch  : 2\n",
      "tensor([[ 74.,  66.,  43.],\n",
      "        [ 91.,  87.,  65.],\n",
      "        [ 88., 134.,  59.],\n",
      "        [101.,  44.,  37.],\n",
      "        [ 68.,  96.,  71.]])\n",
      "tensor([[ 57.,  69.],\n",
      "        [ 80., 102.],\n",
      "        [118., 132.],\n",
      "        [ 21.,  38.],\n",
      "        [104., 118.]])\n",
      "Batch  : 3\n",
      "tensor([[ 73.,  66.,  44.],\n",
      "        [ 92.,  87.,  64.],\n",
      "        [ 87., 135.,  57.],\n",
      "        [103.,  43.,  36.],\n",
      "        [ 68.,  97.,  70.]])\n",
      "tensor([[ 57.,  69.],\n",
      "        [ 82., 100.],\n",
      "        [118., 134.],\n",
      "        [ 20.,  38.],\n",
      "        [102., 120.]])\n"
     ]
    }
   ],
   "source": [
    "i = 1\n",
    "for xb,yb in train_dl:\n",
    "    print('Batch  :', i)\n",
    "    print(xb)\n",
    "    print(yb)\n",
    "    i+=1"
   ]
  },
  {
   "cell_type": "code",
   "execution_count": 20,
   "id": "e3309ed6",
   "metadata": {},
   "outputs": [
    {
     "name": "stdout",
     "output_type": "stream",
     "text": [
      "Parameter containing:\n",
      "tensor([[ 0.3843,  0.1400, -0.3462],\n",
      "        [-0.1574,  0.1146,  0.1994]], requires_grad=True)\n",
      "Parameter containing:\n",
      "tensor([ 0.5290, -0.4005], requires_grad=True)\n"
     ]
    }
   ],
   "source": [
    "import torch.nn\n",
    "model = torch.nn.Linear(3,2)\n",
    "print(model.weight)\n",
    "print(model.bias)"
   ]
  },
  {
   "cell_type": "code",
   "execution_count": 25,
   "id": "4084114e",
   "metadata": {},
   "outputs": [
    {
     "name": "stdout",
     "output_type": "stream",
     "text": [
      "tensor([[23.0777,  4.3643],\n",
      "        [25.6650,  8.1255],\n",
      "        [32.6475, 12.8308],\n",
      "        [32.9387, -4.1458],\n",
      "        [16.2533, 13.7003],\n",
      "        [23.3220,  4.0924],\n",
      "        [25.1787,  8.2102],\n",
      "        [32.6856, 12.8728],\n",
      "        [32.6945, -3.8738],\n",
      "        [15.5228, 14.0570],\n",
      "        [22.5914,  4.4491],\n",
      "        [25.9093,  7.8535],\n",
      "        [33.1338, 12.7461],\n",
      "        [33.6693, -4.5025],\n",
      "        [16.0091, 13.9723]], grad_fn=<AddmmBackward0>)\n"
     ]
    }
   ],
   "source": [
    "pred = model(inputs)\n",
    "print(pred)"
   ]
  },
  {
   "cell_type": "code",
   "execution_count": 26,
   "id": "36649c79",
   "metadata": {},
   "outputs": [],
   "source": [
    "# loss function\n",
    "import torch.nn.functional as F"
   ]
  },
  {
   "cell_type": "code",
   "execution_count": 28,
   "id": "41a045b2",
   "metadata": {},
   "outputs": [],
   "source": [
    "loss_fun = F.mse_loss"
   ]
  },
  {
   "cell_type": "code",
   "execution_count": 29,
   "id": "04c76e07",
   "metadata": {},
   "outputs": [
    {
     "name": "stdout",
     "output_type": "stream",
     "text": [
      "tensor(5935.5454, grad_fn=<MseLossBackward0>)\n"
     ]
    }
   ],
   "source": [
    "loss = loss_fun(model(inputs), targets)\n",
    "print(loss)"
   ]
  },
  {
   "cell_type": "code",
   "execution_count": 37,
   "id": "35cc58c1",
   "metadata": {},
   "outputs": [],
   "source": [
    "# Optimizer\n",
    "import torch.optim\n",
    "opt = torch.optim.SGD(model.parameters(), lr = 1e-5)"
   ]
  },
  {
   "cell_type": "code",
   "execution_count": 46,
   "id": "645f4111",
   "metadata": {},
   "outputs": [],
   "source": [
    "def fit(num_epochs, model, loss_fun, opt, train_dl):\n",
    "    \n",
    "    for epoch in range(num_epochs):\n",
    "        \n",
    "        for xb, yb in train_dl:\n",
    "            \n",
    "            pred = model(xb)\n",
    "            \n",
    "            loss = loss_fun(pred, yb)\n",
    "            \n",
    "            loss.backward()\n",
    "            \n",
    "            opt.step()\n",
    "            \n",
    "            opt.zero_grad()\n",
    "            \n",
    "        if (epoch+1) % 10 == 0:\n",
    "            print('Epoch [{}/{}], Loss: {:.4f}'.format(epoch+1, num_epochs, loss.item()))"
   ]
  },
  {
   "cell_type": "code",
   "execution_count": 47,
   "id": "df6e3314",
   "metadata": {},
   "outputs": [
    {
     "name": "stdout",
     "output_type": "stream",
     "text": [
      "Epoch [10/100], Loss: 483.6180\n",
      "Epoch [20/100], Loss: 198.6450\n",
      "Epoch [30/100], Loss: 249.1896\n",
      "Epoch [40/100], Loss: 170.8644\n",
      "Epoch [50/100], Loss: 109.6234\n",
      "Epoch [60/100], Loss: 98.3452\n",
      "Epoch [70/100], Loss: 55.0681\n",
      "Epoch [80/100], Loss: 60.2695\n",
      "Epoch [90/100], Loss: 59.5787\n",
      "Epoch [100/100], Loss: 24.0933\n"
     ]
    }
   ],
   "source": [
    "fit(100,model,loss_fun,opt, train_dl)"
   ]
  },
  {
   "cell_type": "code",
   "execution_count": null,
   "id": "ac5f5eea",
   "metadata": {},
   "outputs": [],
   "source": []
  }
 ],
 "metadata": {
  "kernelspec": {
   "display_name": "Python 3 (ipykernel)",
   "language": "python",
   "name": "python3"
  },
  "language_info": {
   "codemirror_mode": {
    "name": "ipython",
    "version": 3
   },
   "file_extension": ".py",
   "mimetype": "text/x-python",
   "name": "python",
   "nbconvert_exporter": "python",
   "pygments_lexer": "ipython3",
   "version": "3.10.4"
  }
 },
 "nbformat": 4,
 "nbformat_minor": 5
}
