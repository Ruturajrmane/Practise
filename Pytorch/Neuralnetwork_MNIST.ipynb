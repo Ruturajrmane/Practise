{
 "cells": [
  {
   "cell_type": "code",
   "execution_count": 1,
   "id": "2f99f9fa",
   "metadata": {},
   "outputs": [],
   "source": [
    "# Neural Network with fully connected layers with using nn.Linear\n",
    "import torch\n",
    "import torchvision\n",
    "from torchvision.datasets import MNIST"
   ]
  },
  {
   "cell_type": "code",
   "execution_count": 2,
   "id": "7df29f1a",
   "metadata": {},
   "outputs": [],
   "source": [
    "dataset = MNIST(root = 'data/', train = True, download = True)"
   ]
  },
  {
   "cell_type": "code",
   "execution_count": 3,
   "id": "353d1a38",
   "metadata": {},
   "outputs": [],
   "source": [
    "test_dataset = MNIST(root = 'data/', train = False)"
   ]
  },
  {
   "cell_type": "code",
   "execution_count": 10,
   "id": "29155ba6",
   "metadata": {},
   "outputs": [
    {
     "ename": "AttributeError",
     "evalue": "'MNIST' object has no attribute 'shape'",
     "output_type": "error",
     "traceback": [
      "\u001b[1;31m---------------------------------------------------------------------------\u001b[0m",
      "\u001b[1;31mAttributeError\u001b[0m                            Traceback (most recent call last)",
      "Input \u001b[1;32mIn [10]\u001b[0m, in \u001b[0;36m<cell line: 4>\u001b[1;34m()\u001b[0m\n\u001b[0;32m      2\u001b[0m \u001b[38;5;28;01mimport\u001b[39;00m \u001b[38;5;21;01mtorchvision\u001b[39;00m\u001b[38;5;21;01m.\u001b[39;00m\u001b[38;5;21;01mtransforms\u001b[39;00m \u001b[38;5;28;01mas\u001b[39;00m \u001b[38;5;21;01mtransforms\u001b[39;00m\n\u001b[0;32m      3\u001b[0m dataset \u001b[38;5;241m=\u001b[39m MNIST(root \u001b[38;5;241m=\u001b[39m \u001b[38;5;124m'\u001b[39m\u001b[38;5;124mdata/\u001b[39m\u001b[38;5;124m'\u001b[39m, train \u001b[38;5;241m=\u001b[39m \u001b[38;5;28;01mTrue\u001b[39;00m, download \u001b[38;5;241m=\u001b[39m \u001b[38;5;28;01mTrue\u001b[39;00m, transform \u001b[38;5;241m=\u001b[39m transforms\u001b[38;5;241m.\u001b[39mToTensor() )\n\u001b[1;32m----> 4\u001b[0m \u001b[38;5;28mprint\u001b[39m(\u001b[43mdataset\u001b[49m\u001b[38;5;241;43m.\u001b[39;49m\u001b[43mshape\u001b[49m)\n",
      "\u001b[1;31mAttributeError\u001b[0m: 'MNIST' object has no attribute 'shape'"
     ]
    }
   ],
   "source": [
    "# Converting data into tensor\n",
    "import torchvision.transforms as transforms\n",
    "dataset = MNIST(root = 'data/', train = True, download = True, transform = transforms.ToTensor() )"
   ]
  },
  {
   "cell_type": "code",
   "execution_count": 5,
   "id": "0749a70a",
   "metadata": {},
   "outputs": [],
   "source": [
    "# Splitting the data into training and validation sets\n",
    "from torch.utils.data import random_split\n",
    "train_data, val_data = random_split(dataset, [50000, 10000])"
   ]
  },
  {
   "cell_type": "code",
   "execution_count": 9,
   "id": "d47e5f2f",
   "metadata": {},
   "outputs": [
    {
     "name": "stdout",
     "output_type": "stream",
     "text": [
      "50000\n"
     ]
    }
   ],
   "source": [
    "print(len(train_data))"
   ]
  },
  {
   "cell_type": "code",
   "execution_count": 11,
   "id": "fc52a6fb",
   "metadata": {},
   "outputs": [
    {
     "name": "stdout",
     "output_type": "stream",
     "text": [
      "torch.Size([128, 1, 28, 28])\n",
      "torch.Size([128])\n"
     ]
    }
   ],
   "source": [
    "# Converting data into batches for training and validation\n",
    "from torch.utils.data import DataLoader\n",
    "batch_size = 128\n",
    "train_loader = DataLoader(train_data,batch_size, shuffle = True)\n",
    "# Shuffle set to true to get different batch of data every epoch\n",
    "val_loader = DataLoader(val_data, batch_size)\n",
    "\n",
    "for image,label in train_loader:\n",
    "    print(image.shape)\n",
    "    print(label.shape)\n",
    "    break"
   ]
  },
  {
   "cell_type": "code",
   "execution_count": 173,
   "id": "824cbe5e",
   "metadata": {},
   "outputs": [],
   "source": [
    "import torch.nn.functional\n",
    "loss_fn = torch.nn.functional.cross_entropy"
   ]
  },
  {
   "cell_type": "code",
   "execution_count": 12,
   "id": "096fded4",
   "metadata": {},
   "outputs": [],
   "source": [
    "def accuracy(pred, labels):\n",
    "    _, pred = torch.max(pred).item()\n",
    "    acc = torch.sum(pred == labels).item()/ len(pred)\n",
    "    return acc"
   ]
  },
  {
   "cell_type": "code",
   "execution_count": 13,
   "id": "77637a71",
   "metadata": {},
   "outputs": [],
   "source": [
    "linear1 = torch.nn.Linear(784, 32)\n",
    "linear2 = torch.nn.Linear(32, 10)\n",
    "parameters = [linear1.weight, linear1.bias , linear2. weight, linear2.bias]\n"
   ]
  },
  {
   "cell_type": "code",
   "execution_count": 187,
   "id": "d579ae84",
   "metadata": {},
   "outputs": [],
   "source": [
    "def fit(epochs, lr):\n",
    "    \n",
    "    opt = torch.optim.SGD(parameters, lr)\n",
    "    dl = []\n",
    "    da = []\n",
    "\n",
    "    for epoch in range(epochs):\n",
    "\n",
    "        l = []\n",
    "        a = []\n",
    "\n",
    "        for image, labels in train_loader:\n",
    "            # Prediction in first layer\n",
    "            out = linear1(image.reshape(-1,784))\n",
    "            # Applying activation function\n",
    "            out = torch.nn.functional.relu(out)\n",
    "            # Prediction in last layer\n",
    "            pred = linear2(out)\n",
    "            # loss calculation\n",
    "            loss = loss_fn(pred, labels)\n",
    "            # Gradient calculation\n",
    "            loss.backward()\n",
    "            # Weight adjusting\n",
    "            opt.step()\n",
    "            # Setting gradient to zero\n",
    "            opt.zero_grad()\n",
    "            \n",
    "\n",
    "        for image, labels in val_loader:\n",
    "             # Prediction in first layer\n",
    "            out = linear1(image.reshape(-1,784))\n",
    "            # Applying activation function\n",
    "            out = torch.nn.functional.relu(out)\n",
    "            # Prediction in last layer\n",
    "            pred = linear2(out)\n",
    "            # loss calculation\n",
    "            loss = loss_fn(pred, labels)\n",
    "            # accuracy calulation\n",
    "            _, pred = torch.max(pred, dim = 1)\n",
    "            acc = (torch.sum(pred == labels).item()/len(pred))\n",
    "\n",
    "            l.append(loss)\n",
    "            a.append(acc)\n",
    "\n",
    "\n",
    "        dl.append(sum(l)/len(l))\n",
    "        da.append(sum(a)/len(a))\n",
    "\n",
    "#         print('Epoch loss : ', torch.stack(l).mean())\n",
    "#         print('Epoch accu : ', torch.stack(a).mean())\n",
    "#         print(dl)\n",
    "        print('Accuracy of epoch {}, is {}'.format((epoch + 1),  sum(a)/len(a)))\n",
    "        print('Loss of epoch {}, is {}'.format((epoch + 1), sum(l)/len(l) ))\n",
    "    return da,dl"
   ]
  },
  {
   "cell_type": "code",
   "execution_count": 188,
   "id": "f6607ffa",
   "metadata": {},
   "outputs": [
    {
     "name": "stdout",
     "output_type": "stream",
     "text": [
      "Accuracy of epoch 1, is 0.8872626582278481\n",
      "Loss of epoch 1, is 0.43078187108039856\n",
      "Accuracy of epoch 2, is 0.9026898734177216\n",
      "Loss of epoch 2, is 0.3467545807361603\n",
      "Accuracy of epoch 3, is 0.9085245253164557\n",
      "Loss of epoch 3, is 0.3208477795124054\n",
      "Accuracy of epoch 4, is 0.915743670886076\n",
      "Loss of epoch 4, is 0.30140796303749084\n",
      "Accuracy of epoch 5, is 0.9153481012658228\n",
      "Loss of epoch 5, is 0.28620466589927673\n",
      "Accuracy of epoch 6, is 0.9206882911392406\n",
      "Loss of epoch 6, is 0.2711000442504883\n",
      "Accuracy of epoch 7, is 0.9245450949367089\n",
      "Loss of epoch 7, is 0.2664300799369812\n",
      "Accuracy of epoch 8, is 0.9279074367088608\n",
      "Loss of epoch 8, is 0.2486804723739624\n",
      "Accuracy of epoch 9, is 0.9312697784810127\n",
      "Loss of epoch 9, is 0.2394905984401703\n",
      "Accuracy of epoch 10, is 0.9345332278481012\n",
      "Loss of epoch 10, is 0.22972239553928375\n",
      "Accuracy of epoch 11, is 0.9343354430379747\n",
      "Loss of epoch 11, is 0.2231627106666565\n",
      "Accuracy of epoch 12, is 0.9379944620253164\n",
      "Loss of epoch 12, is 0.2153654396533966\n",
      "Accuracy of epoch 13, is 0.9379944620253164\n",
      "Loss of epoch 13, is 0.20956256985664368\n",
      "Accuracy of epoch 14, is 0.9423457278481012\n",
      "Loss of epoch 14, is 0.20116443932056427\n",
      "Accuracy of epoch 15, is 0.9441257911392406\n",
      "Loss of epoch 15, is 0.19628165662288666\n",
      "Accuracy of epoch 16, is 0.944620253164557\n",
      "Loss of epoch 16, is 0.18961766362190247\n",
      "Accuracy of epoch 17, is 0.9448180379746836\n",
      "Loss of epoch 17, is 0.18862047791481018\n",
      "Accuracy of epoch 18, is 0.9464003164556962\n",
      "Loss of epoch 18, is 0.18147581815719604\n",
      "Accuracy of epoch 19, is 0.9478837025316456\n",
      "Loss of epoch 19, is 0.17890477180480957\n",
      "Accuracy of epoch 20, is 0.9474881329113924\n",
      "Loss of epoch 20, is 0.17468445003032684\n",
      "Accuracy of epoch 21, is 0.9492681962025317\n",
      "Loss of epoch 21, is 0.17103324830532074\n",
      "Accuracy of epoch 22, is 0.9493670886075949\n",
      "Loss of epoch 22, is 0.17157095670700073\n",
      "Accuracy of epoch 23, is 0.9521360759493671\n",
      "Loss of epoch 23, is 0.16664168238639832\n",
      "Accuracy of epoch 24, is 0.9511471518987342\n",
      "Loss of epoch 24, is 0.1681753695011139\n",
      "Accuracy of epoch 25, is 0.9526305379746836\n",
      "Loss of epoch 25, is 0.16087357699871063\n",
      "Accuracy of epoch 26, is 0.9528283227848101\n",
      "Loss of epoch 26, is 0.16031913459300995\n",
      "Accuracy of epoch 27, is 0.9539161392405063\n",
      "Loss of epoch 27, is 0.15763568878173828\n",
      "Accuracy of epoch 28, is 0.9532238924050633\n",
      "Loss of epoch 28, is 0.15639010071754456\n",
      "Accuracy of epoch 29, is 0.9532238924050633\n",
      "Loss of epoch 29, is 0.15535952150821686\n",
      "Accuracy of epoch 30, is 0.9539161392405063\n",
      "Loss of epoch 30, is 0.15405331552028656\n"
     ]
    }
   ],
   "source": [
    "da,dl = fit(30, 0.05)\n"
   ]
  },
  {
   "cell_type": "code",
   "execution_count": 189,
   "id": "b03d351f",
   "metadata": {},
   "outputs": [
    {
     "name": "stdout",
     "output_type": "stream",
     "text": [
      "Test dataset accauracy : 0.9574\n"
     ]
    }
   ],
   "source": [
    "test_dataset = MNIST(root='data/', \n",
    "                     train=False,\n",
    "                     transform=transforms.ToTensor())\n",
    "len(test_dataset)\n",
    "j=0\n",
    "for i in range(len(test_dataset)):\n",
    "    image, label = test_dataset[i]\n",
    "    out = linear1(image.reshape(-1,784))\n",
    "    # Applying activation function\n",
    "    out = torch.nn.functional.relu(out)\n",
    "    # Prediction in last layer\n",
    "    pred = linear2(out)\n",
    "    _, pred = torch.max(pred, dim = 1)\n",
    "#     print(pred)\n",
    "#     print(label)\n",
    "    if pred == label:\n",
    "        j+=1\n",
    "print('Test dataset accauracy :', j/len(test_dataset))\n",
    "            \n",
    "            "
   ]
  },
  {
   "cell_type": "code",
   "execution_count": 190,
   "id": "447904fa",
   "metadata": {},
   "outputs": [
    {
     "data": {
      "image/png": "[encoded data removed]",
      "text/plain": [
       "<Figure size 432x288 with 1 Axes>"
      ]
     },
     "metadata": {
      "needs_background": "light"
     },
     "output_type": "display_data"
    }
   ],
   "source": [
    "import matplotlib.pyplot\n",
    "matplotlib.pyplot.plot([(i+1) for i in  range(len(da))], da)\n",
    "matplotlib.pyplot.xlabel('Epochs')\n",
    "matplotlib.pyplot.ylabel('Accuracy')\n",
    "matplotlib.pyplot.show()"
   ]
  },
  {
   "cell_type": "code",
   "execution_count": null,
   "id": "f193a20f",
   "metadata": {},
   "outputs": [],
   "source": []
  },
  {
   "cell_type": "code",
   "execution_count": null,
   "id": "b30f732c",
   "metadata": {},
   "outputs": [],
   "source": []
  },
  {
   "cell_type": "code",
   "execution_count": null,
   "id": "5b916302",
   "metadata": {},
   "outputs": [],
   "source": []
  },
  {
   "cell_type": "code",
   "execution_count": null,
   "id": "0096043c",
   "metadata": {},
   "outputs": [],
   "source": []
  },
  {
   "cell_type": "code",
   "execution_count": null,
   "id": "79623d32",
   "metadata": {},
   "outputs": [],
   "source": []
  },
  {
   "cell_type": "code",
   "execution_count": 109,
   "id": "c1389f71",
   "metadata": {},
   "outputs": [],
   "source": []
  },
  {
   "cell_type": "code",
   "execution_count": null,
   "id": "c3db9414",
   "metadata": {},
   "outputs": [],
   "source": [
    "\n"
   ]
  },
  {
   "cell_type": "code",
   "execution_count": null,
   "id": "49376330",
   "metadata": {},
   "outputs": [],
   "source": []
  }
 ],
 "metadata": {
  "kernelspec": {
   "display_name": "Python 3 (ipykernel)",
   "language": "python",
   "name": "python3"
  },
  "language_info": {
   "codemirror_mode": {
    "name": "ipython",
    "version": 3
   },
   "file_extension": ".py",
   "mimetype": "text/x-python",
   "name": "python",
   "nbconvert_exporter": "python",
   "pygments_lexer": "ipython3",
   "version": "3.10.4"
  }
 },
 "nbformat": 4,
 "nbformat_minor": 5
}
